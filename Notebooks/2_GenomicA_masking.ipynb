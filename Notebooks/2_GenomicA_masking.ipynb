{
 "cells": [
  {
   "cell_type": "markdown",
   "metadata": {},
   "source": [
    "\n",
    "---\n",
    "title: \"Genomic A-rich masking\"\n",
    "author: \"Manfred Schmid\"\n",
    "date: \"9 August 2017\"\n",
    "\n",
    "---\n",
    "\n",
    "\n",
    "# Mask reads primed at genomic A-stretches\n",
    "\n",
    "Next step is to mask genomic pA reads from the genome. This could possible be included in the above step. But the approach I used is to create a “masking file”. Ie a bed file of all genomic positions to be filtered. (This should allow for a more flexible approach for comparing different filters.) The main script to create the masking file is again implemented in python, which takes various parameters (how many nucleotides X in a window of size Y) to control what is being masked. The criteria are taken from Kevin Roy, Chanfreau lab. Which he assembled based on yeast Lexogen data. They are:  \n",
    "1)\tall regions with >= 4A within 6 nucleotides but no C or Ts (downstream of position).  \n",
    "2)\tall regions with >= 12A within 18 nucleotides (no CT restrictions, downstream of position).  \n",
    "3)\tAll regions with >=15A within 18 nucleotides (upstream of position).  \n",
    "I would say number 3 is optional, and the technical reason for this filtering is somewhat obscure. Apparently QuantSeq protocol can produce artifact reads containing polyT stretches, and these will map to A-rich sequences in the genome, which can be filtered away using criterion 3. On our first run this was not obvious and I did not include that.\n",
    "\n"
   ]
  },
  {
   "cell_type": "code",
   "execution_count": 19,
   "metadata": {},
   "outputs": [
    {
     "name": "stdout",
     "output_type": "stream",
     "text": [
      "(py27) (py27) (py27) /home/ubuntu/output/GenomicAmasks\n",
      "(py27) "
     ]
    },
    {
     "ename": "",
     "evalue": "1",
     "output_type": "error",
     "traceback": []
    }
   ],
   "source": [
    "cd ..\n",
    "mkdir -p output/GenomicAmasks/\n",
    "cd output/GenomicAmasks/\n",
    "pwd"
   ]
  },
  {
   "cell_type": "code",
   "execution_count": 20,
   "metadata": {},
   "outputs": [
    {
     "name": "stdout",
     "output_type": "stream",
     "text": [
      "(py27) Python 2.7.15\n",
      "(py27) "
     ]
    },
    {
     "ename": "",
     "evalue": "1",
     "output_type": "error",
     "traceback": []
    }
   ],
   "source": [
    "conda activate py27\n",
    "python -V"
   ]
  },
  {
   "cell_type": "markdown",
   "metadata": {},
   "source": [
    "First we will use the script flag_genomic_As_KevinRoy_like.py to flag the A6 genomic regions \n",
    "    we will use the sacCer3_Sp_merged.fa file created in notebook InstallGenomeAssemblies\n",
    "    we will put this in the directory output"
   ]
  },
  {
   "cell_type": "code",
   "execution_count": 21,
   "metadata": {},
   "outputs": [
    {
     "name": "stdout",
     "output_type": "stream",
     "text": [
      "scanning:  chrI\n",
      "scanning:  chrII\n",
      "scanning:  chrIII\n",
      "scanning:  chrIV\n",
      "scanning:  chrIX\n",
      "scanning:  chrM\n",
      "scanning:  chrV\n",
      "scanning:  chrVI\n",
      "scanning:  chrVII\n",
      "scanning:  chrVIII\n",
      "scanning:  chrX\n",
      "scanning:  chrXI\n",
      "scanning:  chrXII\n",
      "scanning:  chrXIII\n",
      "scanning:  chrXIV\n",
      "scanning:  chrXV\n",
      "scanning:  chrXVI\n",
      "scanning:  I dna:chromosome chromosome:ASM294v2:I:1:5579133:1 REF\n",
      "scanning:  II dna:chromosome chromosome:ASM294v2:II:1:4539804:1 REF\n",
      "scanning:  III dna:chromosome chromosome:ASM294v2:III:1:2452883:1 REF\n",
      "scanning:  MT dna:chromosome chromosome:ASM294v2:MT:1:19431:1 REF\n",
      "scanning:  MTR dna:chromosome chromosome:ASM294v2:MTR:1:20128:1 REF\n",
      "scanning:  AB325691 dna:chromosome chromosome:ASM294v2:AB325691:1:20000:1 REF\n",
      "scanning done, found  965263  hits\n",
      "(py27) (py27) (py27) (py27) (py27) "
     ]
    },
    {
     "ename": "",
     "evalue": "1",
     "output_type": "error",
     "traceback": []
    }
   ],
   "source": [
    "python ~/scripts/flag_genomic_As_KevinRoy_like.py ~/annotations/sacCer3_Sp_merged_genome/fasta/sacCer3_Sp_merged.fa -l 6 -A 4 -maxCT 0 -o ~/output/GenomicAmasks/sacCer3_Sp_merged_flagged_A4in6.bed\n",
    "awk '{if($6==\"+\") print $0}' ~/output/GenomicAmasks/sacCer3_Sp_merged_flagged_A4in6.bed |\n",
    "sort -k1,1 -k2,2n -o ~/output/GenomicAmasks/sacCer3_Sp_merged_flagged_A4in6_plus.bed\n",
    "bedtools merge -d 2 -i ~/output/GenomicAmasks/sacCer3_Sp_merged_flagged_A4in6_plus.bed > ~/output/GenomicAmasks/sacCer3_Sp_merged_flagged_A4in6_plus_merged.bed\n",
    "awk '{if($6==\"-\") print $0}' ~/output/GenomicAmasks/sacCer3_Sp_merged_flagged_A4in6.bed |\n",
    "sort -k1,1 -k2,2n -o ~/output/GenomicAmasks/sacCer3_Sp_merged_flagged_A4in6_minus.bed\n",
    "bedtools merge -d 2 -i ~/output/GenomicAmasks/sacCer3_Sp_merged_flagged_A4in6_minus.bed > ~/output/GenomicAmasks/sacCer3_Sp_merged_flagged_A4in6_minus_merged.bed\n",
    "\n"
   ]
  },
  {
   "cell_type": "markdown",
   "metadata": {},
   "source": [
    "Next we will get the A18 regions"
   ]
  },
  {
   "cell_type": "code",
   "execution_count": 22,
   "metadata": {},
   "outputs": [
    {
     "name": "stdout",
     "output_type": "stream",
     "text": [
      "scanning:  chrI\n",
      "scanning:  chrII\n",
      "scanning:  chrIII\n",
      "scanning:  chrIV\n",
      "scanning:  chrIX\n",
      "scanning:  chrM\n",
      "scanning:  chrV\n",
      "scanning:  chrVI\n",
      "scanning:  chrVII\n",
      "scanning:  chrVIII\n",
      "scanning:  chrX\n",
      "scanning:  chrXI\n",
      "scanning:  chrXII\n",
      "scanning:  chrXIII\n",
      "scanning:  chrXIV\n",
      "scanning:  chrXV\n",
      "scanning:  chrXVI\n",
      "scanning:  I dna:chromosome chromosome:ASM294v2:I:1:5579133:1 REF\n",
      "scanning:  II dna:chromosome chromosome:ASM294v2:II:1:4539804:1 REF\n",
      "scanning:  III dna:chromosome chromosome:ASM294v2:III:1:2452883:1 REF\n",
      "scanning:  MT dna:chromosome chromosome:ASM294v2:MT:1:19431:1 REF\n",
      "scanning:  MTR dna:chromosome chromosome:ASM294v2:MTR:1:20128:1 REF\n",
      "scanning:  AB325691 dna:chromosome chromosome:ASM294v2:AB325691:1:20000:1 REF\n",
      "scanning done, found  513028  hits\n",
      "(py27) (py27) (py27) (py27) (py27) "
     ]
    },
    {
     "ename": "",
     "evalue": "1",
     "output_type": "error",
     "traceback": []
    }
   ],
   "source": [
    "python ~/scripts/flag_genomic_As_KevinRoy_like.py ~/annotations/sacCer3_Sp_merged_genome/fasta/sacCer3_Sp_merged.fa -l 18 -A 12 -maxCT 6 -o ~/output/GenomicAmasks/sacCer3_Sp_merged_flagged_A12in18.bed\n",
    "awk '{if($6==\"+\") print $0}' ~/output/GenomicAmasks/sacCer3_Sp_merged_flagged_A12in18.bed |\n",
    "sort -k1,1 -k2,2n -o ~/output/GenomicAmasks/sacCer3_Sp_merged_flagged_A12in18_plus.bed\n",
    "bedtools merge -d 2 -i ~/output/GenomicAmasks/sacCer3_Sp_merged_flagged_A12in18_plus.bed > ~/output/GenomicAmasks/sacCer3_Sp_merged_flagged_A12in18_plus_merged.bed\n",
    "awk '{if($6==\"-\") print $0}' ~/output/GenomicAmasks/sacCer3_Sp_merged_flagged_A12in18.bed |\n",
    "sort -k1,1 -k2,2n -o ~/output/GenomicAmasks/sacCer3_Sp_merged_flagged_A12in18_minus.bed\n",
    "bedtools merge -d 2 -i ~/output/GenomicAmasks/sacCer3_Sp_merged_flagged_A12in18_minus.bed > ~/output/GenomicAmasks/sacCer3_Sp_merged_flagged_A12in18_minus_merged.bed\n",
    "\n"
   ]
  },
  {
   "cell_type": "markdown",
   "metadata": {},
   "source": [
    "Now we will get the A15 out of A18 regions"
   ]
  },
  {
   "cell_type": "code",
   "execution_count": 23,
   "metadata": {},
   "outputs": [
    {
     "name": "stdout",
     "output_type": "stream",
     "text": [
      "scanning:  chrI\n",
      "scanning:  chrII\n",
      "scanning:  chrIII\n",
      "scanning:  chrIV\n",
      "scanning:  chrIX\n",
      "scanning:  chrM\n",
      "scanning:  chrV\n",
      "scanning:  chrVI\n",
      "scanning:  chrVII\n",
      "scanning:  chrVIII\n",
      "scanning:  chrX\n",
      "scanning:  chrXI\n",
      "scanning:  chrXII\n",
      "scanning:  chrXIII\n",
      "scanning:  chrXIV\n",
      "scanning:  chrXV\n",
      "scanning:  chrXVI\n",
      "scanning:  I dna:chromosome chromosome:ASM294v2:I:1:5579133:1 REF\n",
      "scanning:  II dna:chromosome chromosome:ASM294v2:II:1:4539804:1 REF\n",
      "scanning:  III dna:chromosome chromosome:ASM294v2:III:1:2452883:1 REF\n",
      "scanning:  MT dna:chromosome chromosome:ASM294v2:MT:1:19431:1 REF\n",
      "scanning:  MTR dna:chromosome chromosome:ASM294v2:MTR:1:20128:1 REF\n",
      "scanning:  AB325691 dna:chromosome chromosome:ASM294v2:AB325691:1:20000:1 REF\n",
      "scanning done, found  33119  hits\n",
      "(py27) (py27) (py27) (py27) (py27) (py27) "
     ]
    },
    {
     "ename": "",
     "evalue": "1",
     "output_type": "error",
     "traceback": []
    }
   ],
   "source": [
    "python ~/scripts/flag_genomic_As_KevinRoy_like.py ~/annotations/sacCer3_Sp_merged_genome/fasta/sacCer3_Sp_merged.fa -l 18 -A 15 -maxCT 3 -o ~/output/GenomicAmasks/sacCer3_Sp_merged_flagged_A15in18.bed\n",
    "#these are for upstream filtering ... need to shift\n",
    "awk '{OFS=\"\\t\"}{if($6==\"+\"){$2+=19; $3+=19; print $0}}' ~/output/GenomicAmasks/sacCer3_Sp_merged_flagged_A15in18.bed | \\\n",
    "sort -k1,1 -k2,2n -o ~/output/GenomicAmasks/sacCer3_Sp_merged_flagged_A15in18_plus.bed\n",
    "bedtools merge -d 2 -i ~/output/GenomicAmasks/sacCer3_Sp_merged_flagged_A15in18_plus.bed > ~/output/GenomicAmasks/sacCer3_Sp_merged_flagged_A15in18_plus_merged.bed\n",
    "awk '{OFS=\"\\t\"}{if($6==\"-\"){ $2-=19; $3-=19; print $0}}' ~/output/GenomicAmasks/sacCer3_Sp_merged_flagged_A15in18.bed | \\\n",
    "sort -k1,1 -k2,2n -o ~/output/GenomicAmasks/sacCer3_Sp_merged_flagged_A15in18_minus.bed\n",
    "bedtools merge -d 2 -i ~/output/GenomicAmasks/sacCer3_Sp_merged_flagged_A15in18_minus.bed > ~/output/GenomicAmasks/sacCer3_Sp_merged_flagged_A15in18_minus_merged.bed"
   ]
  },
  {
   "cell_type": "markdown",
   "metadata": {},
   "source": [
    "browser tracking indicates no reads stemming around upstream A-tracks ... do not apply this filter for now"
   ]
  },
  {
   "cell_type": "markdown",
   "metadata": {},
   "source": [
    "Now we will merge the above"
   ]
  },
  {
   "cell_type": "code",
   "execution_count": 30,
   "metadata": {},
   "outputs": [
    {
     "name": "stdout",
     "output_type": "stream",
     "text": [
      "(py27) (py27) (py27) (py27) (py27) (py27) (py27) 655732\n",
      "(py27) (py27) (py27) (py27) (py27) chrI\t230218\n",
      "chrII\t813184\n",
      "chrIII\t316620\n",
      "chrIV\t1531933\n",
      "chrV\t576874\n",
      "chrVI\t270161\n",
      "chrVII\t1090940\n",
      "chrVIII\t562643\n",
      "chrIX\t439888\n",
      "chrX\t745751\n",
      "(py27) (py27) 24314210\n",
      "(py27) (py27) (py27) "
     ]
    },
    {
     "ename": "",
     "evalue": "1",
     "output_type": "error",
     "traceback": []
    }
   ],
   "source": [
    "cat ~/output/GenomicAmasks/sacCer3_Sp_merged_flagged_A12in18_plus_merged.bed \\\n",
    "~/output/GenomicAmasks/sacCer3_Sp_merged_flagged_A4in6_plus_merged.bed | \\\n",
    "sort -k1,1 -k2,2n | \\\n",
    "bedtools merge -i stdin > ~/output/GenomicAmasks/sacCer3_flagged_KevinRoy_plus.bed\n",
    "cat ~/output/GenomicAmasks/sacCer3_Sp_merged_flagged_A12in18_minus_merged.bed \\\n",
    "~/output/GenomicAmasks/sacCer3_Sp_merged_flagged_A4in6_minus_merged.bed | \\\n",
    "sort -k1,1 -k2,2n | \\\n",
    "bedtools merge -i stdin > ~/output/GenomicAmasks/sacCer3_flagged_KevinRoy_minus.bed\n",
    "## single file\n",
    "awk '{if(NR == FNR){strand=\"+\"}else{strand=\"-\"};print $0\"\\t.\\t0\\t\"strand}' ~/output/GenomicAmasks/sacCer3_flagged_KevinRoy_plus.bed ~/output/GenomicAmasks/sacCer3_flagged_KevinRoy_minus.bed | sort -k1,1 -k2,2n > ~/output/GenomicAmasks/sacCer3_flagged_KevinRoy.bed\n",
    "##single mask S.cerevisiae only\n",
    "grep ^chr ~/output/GenomicAmasks/sacCer3_flagged_KevinRoy.bed > ~/output/GenomicAmasks/genomicAmask.bed\n",
    "## count positions\n",
    "awk '{sum+=($3-$2)}END{print sum}' ~/output/GenomicAmasks/genomicAmask.bed\n",
    "# 655732\n",
    "## genome size\n",
    "printf \"chrI\\t230218\\nchrII\\t813184\\nchrIII\\t316620\\nchrIV\\t1531933\\nchrV\\t576874\\nchrVI\\t270161\\nchrVII\\t1090940\\nchrVIII\\t562643\\nchrIX\\t439888\\nchrX\\t745751\\nchrXI\\t666816\\nchrXII\\t1078177\\nchrXIII\\t924431\\nchrXIV\\t784333\\nchrXV\\t1091291\\nchrXVI\\t948066\\nchrM\\t85779\\n\" > ~/output/GenomicAmasks/sacCer3_chrom.sizes \n",
    "\n",
    "head ~/output/GenomicAmasks/sacCer3_chrom.sizes \n",
    "\n",
    "awk '{sum+=$2}END{print sum*2}' ~/output/GenomicAmasks/sacCer3_chrom.sizes \n",
    "# 24314210 (total nt in both strands!!)\n",
    "## 655732/24314210 = 0.02696909 --> 2.7% of genome are masked\n"
   ]
  },
  {
   "cell_type": "markdown",
   "metadata": {},
   "source": [
    "filtering genomic A-masked positions from bedgraphs\n",
    "10min data\n",
    "subtract from bedgraph; only do S.cerevisiae for this part for simplicity"
   ]
  },
  {
   "cell_type": "code",
   "execution_count": 32,
   "metadata": {},
   "outputs": [
    {
     "name": "stdout",
     "output_type": "stream",
     "text": [
      "(py27) (py27) (py27) (py27) (py27) (py27) (py27) "
     ]
    },
    {
     "ename": "",
     "evalue": "1",
     "output_type": "error",
     "traceback": []
    }
   ],
   "source": [
    "cp ~/output/GenomicAmasks/sacCer3_flagged_KevinRoy_plus.bed ~/output/GenomicAmasks/sacCer3_flagged_KevinRoy_Sc_plus.bed\n",
    "sed -i 's/^chr//g' ~/output/GenomicAmasks/sacCer3_flagged_KevinRoy_Sc_plus.bed\n",
    "sort -k1,1 -k2,2n ~/output/GenomicAmasks/sacCer3_flagged_KevinRoy_Sc_plus.bed -o ~/output/GenomicAmasks/sacCer3_flagged_KevinRoy_Sc_plus.bed\n",
    "\n",
    "cp ~/output/GenomicAmasks/sacCer3_flagged_KevinRoy_minus.bed ~/output/GenomicAmasks/sacCer3_flagged_KevinRoy_Sc_minus.bed\n",
    "sed -i 's/^chr//g' ~/output/GenomicAmasks/sacCer3_flagged_KevinRoy_Sc_minus.bed\n",
    "sort -k1,1 -k2,2n ~/output/GenomicAmasks/sacCer3_flagged_KevinRoy_Sc_minus.bed -o ~/output/GenomicAmasks/sacCer3_flagged_KevinRoy_Sc_minus.bed"
   ]
  },
  {
   "cell_type": "code",
   "execution_count": 36,
   "metadata": {},
   "outputs": [
    {
     "name": "stdout",
     "output_type": "stream",
     "text": [
      "(py27) (py27) "
     ]
    },
    {
     "ename": "",
     "evalue": "1",
     "output_type": "error",
     "traceback": []
    }
   ],
   "source": [
    "mkdir -p ~/output/KevinRoyAfiltered_bedgraph/\n",
    "cd ~/output/KevinRoyAfiltered_bedgraph/"
   ]
  },
  {
   "cell_type": "code",
   "execution_count": 37,
   "metadata": {},
   "outputs": [
    {
     "name": "stdout",
     "output_type": "stream",
     "text": [
      "/home/ubuntu/output/STAR_map/SRR6423303_trimmed_cleanAligned.sortedByCoord.out_plus.bedgraph\n",
      "***** WARNING: File - has inconsistent naming convention for record:\n",
      "chrI\t6700\t6701\t1\n",
      "\n",
      "***** WARNING: File - has inconsistent naming convention for record:\n",
      "chrI\t6700\t6701\t1\n",
      "\n",
      "/home/ubuntu/output/STAR_map/SRR6423305_trimmed_cleanAligned.sortedByCoord.out_plus.bedgraph\n",
      "***** WARNING: File - has inconsistent naming convention for record:\n",
      "chrI\t5795\t5796\t1\n",
      "\n",
      "***** WARNING: File - has inconsistent naming convention for record:\n",
      "chrI\t5795\t5796\t1\n",
      "\n",
      "/home/ubuntu/output/STAR_map/SRR6423306_trimmed_cleanAligned.sortedByCoord.out_plus.bedgraph\n",
      "***** WARNING: File - has inconsistent naming convention for record:\n",
      "chrI\t3687\t3688\t1\n",
      "\n",
      "***** WARNING: File - has inconsistent naming convention for record:\n",
      "chrI\t3687\t3688\t1\n",
      "\n",
      "/home/ubuntu/output/STAR_map/SRR6423307_trimmed_cleanAligned.sortedByCoord.out_plus.bedgraph\n",
      "***** WARNING: File - has inconsistent naming convention for record:\n",
      "chrI\t5798\t5799\t2\n",
      "\n",
      "***** WARNING: File - has inconsistent naming convention for record:\n",
      "chrI\t5798\t5799\t2\n",
      "\n",
      "/home/ubuntu/output/STAR_map/SRR6423308_trimmed_cleanAligned.sortedByCoord.out_plus.bedgraph\n",
      "***** WARNING: File - has inconsistent naming convention for record:\n",
      "chrI\t5900\t5901\t1\n",
      "\n",
      "***** WARNING: File - has inconsistent naming convention for record:\n",
      "chrI\t5900\t5901\t1\n",
      "\n",
      "/home/ubuntu/output/STAR_map/SRR6423309_trimmed_cleanAligned.sortedByCoord.out_plus.bedgraph\n",
      "***** WARNING: File - has inconsistent naming convention for record:\n",
      "chrI\t4633\t4634\t1\n",
      "\n",
      "***** WARNING: File - has inconsistent naming convention for record:\n",
      "chrI\t4633\t4634\t1\n",
      "\n",
      "/home/ubuntu/output/STAR_map/SRR6423310_trimmed_cleanAligned.sortedByCoord.out_plus.bedgraph\n",
      "***** WARNING: File - has inconsistent naming convention for record:\n",
      "chrI\t6172\t6173\t1\n",
      "\n",
      "***** WARNING: File - has inconsistent naming convention for record:\n",
      "chrI\t6172\t6173\t1\n",
      "\n",
      "/home/ubuntu/output/STAR_map/SRR6423311_trimmed_cleanAligned.sortedByCoord.out_plus.bedgraph\n",
      "***** WARNING: File - has inconsistent naming convention for record:\n",
      "chrI\t5757\t5758\t1\n",
      "\n",
      "***** WARNING: File - has inconsistent naming convention for record:\n",
      "chrI\t5757\t5758\t1\n",
      "\n",
      "/home/ubuntu/output/STAR_map/SRR6423312_trimmed_cleanAligned.sortedByCoord.out_plus.bedgraph\n",
      "***** WARNING: File - has inconsistent naming convention for record:\n",
      "chrI\t4054\t4055\t1\n",
      "\n",
      "***** WARNING: File - has inconsistent naming convention for record:\n",
      "chrI\t4054\t4055\t1\n",
      "\n",
      "/home/ubuntu/output/STAR_map/SRR6423313_trimmed_cleanAligned.sortedByCoord.out_plus.bedgraph\n",
      "***** WARNING: File - has inconsistent naming convention for record:\n",
      "chrI\t3496\t3497\t1\n",
      "\n",
      "***** WARNING: File - has inconsistent naming convention for record:\n",
      "chrI\t3496\t3497\t1\n",
      "\n",
      "/home/ubuntu/output/STAR_map/SRR6423314_trimmed_cleanAligned.sortedByCoord.out_plus.bedgraph\n",
      "***** WARNING: File - has inconsistent naming convention for record:\n",
      "chrI\t3625\t3626\t1\n",
      "\n",
      "***** WARNING: File - has inconsistent naming convention for record:\n",
      "chrI\t3625\t3626\t1\n",
      "\n",
      "/home/ubuntu/output/STAR_map/SRR6423315_trimmed_cleanAligned.sortedByCoord.out_plus.bedgraph\n",
      "***** WARNING: File - has inconsistent naming convention for record:\n",
      "chrI\t4520\t4521\t1\n",
      "\n",
      "***** WARNING: File - has inconsistent naming convention for record:\n",
      "chrI\t4520\t4521\t1\n",
      "\n",
      "/home/ubuntu/output/STAR_map/SRR6423316_trimmed_cleanAligned.sortedByCoord.out_plus.bedgraph\n",
      "***** WARNING: File - has inconsistent naming convention for record:\n",
      "chrI\t6234\t6235\t1\n",
      "\n",
      "***** WARNING: File - has inconsistent naming convention for record:\n",
      "chrI\t6234\t6235\t1\n",
      "\n",
      "/home/ubuntu/output/STAR_map/SRR6423317_trimmed_cleanAligned.sortedByCoord.out_plus.bedgraph\n",
      "***** WARNING: File - has inconsistent naming convention for record:\n",
      "chrI\t7567\t7568\t1\n",
      "\n",
      "***** WARNING: File - has inconsistent naming convention for record:\n",
      "chrI\t7567\t7568\t1\n",
      "\n",
      "(py27) /home/ubuntu/output/STAR_map/SRR6423303_trimmed_cleanAligned.sortedByCoord.out_minus.bedgraph\n",
      "***** WARNING: File - has inconsistent naming convention for record:\n",
      "chrI\t1722\t1723\t1\n",
      "\n",
      "***** WARNING: File - has inconsistent naming convention for record:\n",
      "chrI\t1722\t1723\t1\n",
      "\n",
      "/home/ubuntu/output/STAR_map/SRR6423305_trimmed_cleanAligned.sortedByCoord.out_minus.bedgraph\n",
      "***** WARNING: File - has inconsistent naming convention for record:\n",
      "chrI\t1697\t1698\t1\n",
      "\n",
      "***** WARNING: File - has inconsistent naming convention for record:\n",
      "chrI\t1697\t1698\t1\n",
      "\n",
      "/home/ubuntu/output/STAR_map/SRR6423306_trimmed_cleanAligned.sortedByCoord.out_minus.bedgraph\n",
      "***** WARNING: File - has inconsistent naming convention for record:\n",
      "chrI\t721\t722\t1\n",
      "\n",
      "***** WARNING: File - has inconsistent naming convention for record:\n",
      "chrI\t721\t722\t1\n",
      "\n",
      "/home/ubuntu/output/STAR_map/SRR6423307_trimmed_cleanAligned.sortedByCoord.out_minus.bedgraph\n",
      "***** WARNING: File - has inconsistent naming convention for record:\n",
      "chrI\t1704\t1705\t1\n",
      "\n",
      "***** WARNING: File - has inconsistent naming convention for record:\n",
      "chrI\t1704\t1705\t1\n",
      "\n",
      "/home/ubuntu/output/STAR_map/SRR6423308_trimmed_cleanAligned.sortedByCoord.out_minus.bedgraph\n",
      "***** WARNING: File - has inconsistent naming convention for record:\n",
      "chrI\t2305\t2306\t1\n",
      "\n",
      "***** WARNING: File - has inconsistent naming convention for record:\n",
      "chrI\t2305\t2306\t1\n",
      "\n",
      "/home/ubuntu/output/STAR_map/SRR6423309_trimmed_cleanAligned.sortedByCoord.out_minus.bedgraph\n",
      "***** WARNING: File - has inconsistent naming convention for record:\n",
      "chrI\t1188\t1189\t1\n",
      "\n",
      "***** WARNING: File - has inconsistent naming convention for record:\n",
      "chrI\t1188\t1189\t1\n",
      "\n",
      "/home/ubuntu/output/STAR_map/SRR6423310_trimmed_cleanAligned.sortedByCoord.out_minus.bedgraph\n",
      "***** WARNING: File - has inconsistent naming convention for record:\n",
      "chrI\t1697\t1698\t1\n",
      "\n",
      "***** WARNING: File - has inconsistent naming convention for record:\n",
      "chrI\t1697\t1698\t1\n",
      "\n",
      "/home/ubuntu/output/STAR_map/SRR6423311_trimmed_cleanAligned.sortedByCoord.out_minus.bedgraph\n",
      "***** WARNING: File - has inconsistent naming convention for record:\n",
      "chrI\t1717\t1718\t1\n",
      "\n",
      "***** WARNING: File - has inconsistent naming convention for record:\n",
      "chrI\t1717\t1718\t1\n",
      "\n",
      "/home/ubuntu/output/STAR_map/SRR6423312_trimmed_cleanAligned.sortedByCoord.out_minus.bedgraph\n",
      "***** WARNING: File - has inconsistent naming convention for record:\n",
      "chrI\t1707\t1708\t2\n",
      "\n",
      "***** WARNING: File - has inconsistent naming convention for record:\n",
      "chrI\t1707\t1708\t2\n",
      "\n",
      "/home/ubuntu/output/STAR_map/SRR6423313_trimmed_cleanAligned.sortedByCoord.out_minus.bedgraph\n",
      "***** WARNING: File - has inconsistent naming convention for record:\n",
      "chrI\t699\t700\t1\n",
      "\n",
      "***** WARNING: File - has inconsistent naming convention for record:\n",
      "chrI\t699\t700\t1\n",
      "\n",
      "/home/ubuntu/output/STAR_map/SRR6423314_trimmed_cleanAligned.sortedByCoord.out_minus.bedgraph\n",
      "***** WARNING: File - has inconsistent naming convention for record:\n",
      "chrI\t1709\t1710\t1\n",
      "\n",
      "***** WARNING: File - has inconsistent naming convention for record:\n",
      "chrI\t1709\t1710\t1\n",
      "\n",
      "/home/ubuntu/output/STAR_map/SRR6423315_trimmed_cleanAligned.sortedByCoord.out_minus.bedgraph\n",
      "***** WARNING: File - has inconsistent naming convention for record:\n",
      "chrI\t1293\t1294\t2\n",
      "\n",
      "***** WARNING: File - has inconsistent naming convention for record:\n",
      "chrI\t1293\t1294\t2\n",
      "\n",
      "/home/ubuntu/output/STAR_map/SRR6423316_trimmed_cleanAligned.sortedByCoord.out_minus.bedgraph\n",
      "***** WARNING: File - has inconsistent naming convention for record:\n",
      "chrI\t1721\t1722\t1\n",
      "\n",
      "***** WARNING: File - has inconsistent naming convention for record:\n",
      "chrI\t1721\t1722\t1\n",
      "\n",
      "/home/ubuntu/output/STAR_map/SRR6423317_trimmed_cleanAligned.sortedByCoord.out_minus.bedgraph\n",
      "***** WARNING: File - has inconsistent naming convention for record:\n",
      "chrI\t1699\t1700\t2\n",
      "\n",
      "***** WARNING: File - has inconsistent naming convention for record:\n",
      "chrI\t1699\t1700\t2\n",
      "\n",
      "(py27) (py27) "
     ]
    },
    {
     "ename": "",
     "evalue": "1",
     "output_type": "error",
     "traceback": []
    }
   ],
   "source": [
    "for f in ~/output/STAR_map/*_plus.bedgraph\n",
    "do\n",
    "  echo $f\n",
    "  grep ^chr $f | \\\n",
    "  sort -k1,1 -k2,2n | \\\n",
    "  bedtools subtract -a - \\\n",
    "  -b ~/output/GenomicAmasks/sacCer3_flagged_KevinRoy_Sc_plus.bed > \\\n",
    "  ${f/.bedgraph/_KevinRoyAfiltered.bedgraph}\n",
    "done\n",
    "for f in ~/output/STAR_map/*_minus.bedgraph\n",
    "do\n",
    "  echo $f\n",
    "  grep ^chr $f | \\\n",
    "  sort -k1,1 -k2,2n | \\\n",
    "  bedtools subtract -a - \\\n",
    "  -b ~/output/GenomicAmasks/sacCer3_flagged_KevinRoy_Sc_minus.bed > \\\n",
    "  ${f/.bedgraph/_KevinRoyAfiltered.bedgraph}\n",
    "done\n",
    "mv ~/output/STAR_map/*KevinRoyAfiltered.bedgraph \\\n",
    "~/output/KevinRoyAfiltered_bedgraph/.\n"
   ]
  },
  {
   "cell_type": "markdown",
   "metadata": {},
   "source": [
    "stats for reads in S. cerevisiae and S.pombe and A-filtered...\n",
    "10min data\n",
    "amount of reads in S.cerevisiae and S.pombe raw files"
   ]
  },
  {
   "cell_type": "code",
   "execution_count": 42,
   "metadata": {},
   "outputs": [
    {
     "name": "stdout",
     "output_type": "stream",
     "text": [
      "(py27) (py27) (py27) bash: ~/output/KevinRoyAfiltered_bedgraph/Sc_Sp_raw_bedgraph.counts: No such file or directory\n",
      "(py27) counting SRR6423303_trimmed_cleanAligned.sortedByCoord.out_plus.bedgraph\n",
      "counting SRR6423305_trimmed_cleanAligned.sortedByCoord.out_plus.bedgraph\n",
      "counting SRR6423306_trimmed_cleanAligned.sortedByCoord.out_plus.bedgraph\n",
      "counting SRR6423307_trimmed_cleanAligned.sortedByCoord.out_plus.bedgraph\n",
      "counting SRR6423308_trimmed_cleanAligned.sortedByCoord.out_plus.bedgraph\n",
      "counting SRR6423309_trimmed_cleanAligned.sortedByCoord.out_plus.bedgraph\n",
      "counting SRR6423310_trimmed_cleanAligned.sortedByCoord.out_plus.bedgraph\n",
      "counting SRR6423311_trimmed_cleanAligned.sortedByCoord.out_plus.bedgraph\n",
      "counting SRR6423312_trimmed_cleanAligned.sortedByCoord.out_plus.bedgraph\n",
      "counting SRR6423313_trimmed_cleanAligned.sortedByCoord.out_plus.bedgraph\n",
      "counting SRR6423314_trimmed_cleanAligned.sortedByCoord.out_plus.bedgraph\n",
      "counting SRR6423315_trimmed_cleanAligned.sortedByCoord.out_plus.bedgraph\n",
      "counting SRR6423316_trimmed_cleanAligned.sortedByCoord.out_plus.bedgraph\n",
      "counting SRR6423317_trimmed_cleanAligned.sortedByCoord.out_plus.bedgraph\n",
      "(py27) "
     ]
    },
    {
     "ename": "",
     "evalue": "1",
     "output_type": "error",
     "traceback": []
    }
   ],
   "source": [
    "> ~/output/KevinRoyAfiltered_bedgraph/Sc_Sp_raw_bedgraph.counts\n",
    "cd ~/output/STAR_map/\n",
    "echo \"bedgraph Sc Sp\" > ${raw_count_file}\n",
    "for b in *_plus.bedgraph\n",
    "do\n",
    "  echo \"counting ${b}\"\n",
    "  cat $b ${b/_plus.bedgraph/_minus.bedgraph} | \\\n",
    "  awk -v fname=\"${b/_plus.bedgraph/}\" '{if($1 ~ /^chr/){Sc_sum+=$4*($3-$2)}else{Sp_sum+=$4*($3-$2)}}END{print fname\" \"Sc_sum\" \"Sp_sum}' >> ~/output/KevinRoyAfiltered_bedgraph/Sc_Sp_raw_bedgraph.counts\n",
    "done"
   ]
  },
  {
   "cell_type": "code",
   "execution_count": 46,
   "metadata": {},
   "outputs": [
    {
     "name": "stdout",
     "output_type": "stream",
     "text": [
      "(py27) (py27) bash: ~/output/KevinRoyAfiltered_bedgraph/Sc_Sp_raw_bedgraph.counts: No such file or directory\n",
      "(py27) counting *_plus.bedgraph\n",
      "cat: '*_plus.bedgraph': No such file or directory\n",
      "cat: '*_minus.bedgraph': No such file or directory\n",
      "(py27) "
     ]
    },
    {
     "ename": "",
     "evalue": "1",
     "output_type": "error",
     "traceback": []
    }
   ],
   "source": [
    "> ~/output/KevinRoyAfiltered_bedgraph/Sc_Afiltered_bedgraph.counts\n",
    "cd ~/output/KevinRoyAfiltered_bedgraph/\n",
    "echo \"bedgraph Sc Sp\" > ${raw_count_file}\n",
    "for b in *_plus.bedgraph\n",
    "do\n",
    "  echo \"counting ${b}\"\n",
    "  cat $b ${b/_plus.bedgraph/_minus.bedgraph} | \\\n",
    "  awk -v fname=\"${b/_plus_KevinRoyAfiltered.bedgraph/}\" '{sum+=$4*($3-$2)}END{print fname\" \"sum}' >> ~/output/KevinRoyAfiltered_bedgraph/Sc_Afiltered_bedgraph.counts\n",
    "done"
   ]
  },
  {
   "cell_type": "code",
   "execution_count": 44,
   "metadata": {},
   "outputs": [
    {
     "name": "stdout",
     "output_type": "stream",
     "text": [
      "SRR6423308_trimmed_cleanAligned.sortedByCoord.out 2547245 160215\n",
      "SRR6423309_trimmed_cleanAligned.sortedByCoord.out 2104393 144518\n",
      "SRR6423310_trimmed_cleanAligned.sortedByCoord.out 2855568 151360\n",
      "SRR6423311_trimmed_cleanAligned.sortedByCoord.out 3156132 175134\n",
      "SRR6423312_trimmed_cleanAligned.sortedByCoord.out 2459241 132147\n",
      "SRR6423313_trimmed_cleanAligned.sortedByCoord.out 3044174 174875\n",
      "SRR6423314_trimmed_cleanAligned.sortedByCoord.out 3668139 213321\n",
      "SRR6423315_trimmed_cleanAligned.sortedByCoord.out 2260904 140711\n",
      "SRR6423316_trimmed_cleanAligned.sortedByCoord.out 3517377 795545\n",
      "SRR6423317_trimmed_cleanAligned.sortedByCoord.out 3579615 435361\n",
      "(py27) "
     ]
    },
    {
     "ename": "",
     "evalue": "1",
     "output_type": "error",
     "traceback": []
    }
   ],
   "source": []
  },
  {
   "cell_type": "code",
   "execution_count": null,
   "metadata": {},
   "outputs": [],
   "source": []
  }
 ],
 "metadata": {
  "kernelspec": {
   "display_name": "Bash",
   "language": "bash",
   "name": "bash"
  },
  "language_info": {
   "codemirror_mode": "shell",
   "file_extension": ".sh",
   "mimetype": "text/x-sh",
   "name": "bash"
  }
 },
 "nbformat": 4,
 "nbformat_minor": 2
}
