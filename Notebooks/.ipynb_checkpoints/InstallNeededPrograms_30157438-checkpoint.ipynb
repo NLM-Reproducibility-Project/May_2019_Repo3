{
 "cells": [
  {
   "cell_type": "code",
   "execution_count": null,
   "metadata": {},
   "outputs": [],
   "source": [
    "# Instruction to Install Programs Needed for 30157438 Replication"
   ]
  },
  {
   "cell_type": "markdown",
   "metadata": {},
   "source": [
    "The provided instructions require Conda\n",
    "To install Conda follow the instructions to install miniconda: http://conda.pydata.org/miniconda.html"
   ]
  },
  {
   "cell_type": "markdown",
   "metadata": {},
   "source": [
    "Add the bioconda channel \"TransENV\" and activate it:"
   ]
  },
  {
   "cell_type": "code",
   "execution_count": 3,
   "metadata": {},
   "outputs": [
    {
     "name": "stdout",
     "output_type": "stream",
     "text": [
      "Warning: 'defaults' already in 'channels' list, moving to the top\n",
      "Warning: 'bioconda' already in 'channels' list, moving to the top\n",
      "Warning: 'conda-forge' already in 'channels' list, moving to the top\n",
      "channels:\n",
      "  - conda-forge\n",
      "  - bioconda\n",
      "  - defaults\n"
     ]
    }
   ],
   "source": [
    "conda config --add channels defaults\n",
    "conda config --add channels bioconda\n",
    "conda config --add channels conda-forge\n",
    "#conda config --remove channels bioconductor\n",
    "conda config --show channels\n",
    "#conda create -n TransENV\n",
    "#conda activate TransENV\n",
    "conda create -n py27 python=2.7 anaconda -y"
   ]
  },
  {
   "cell_type": "markdown",
   "metadata": {},
   "source": [
    "Now we will make a directory where we can install our programs and enter it."
   ]
  },
  {
   "cell_type": "code",
   "execution_count": 2,
   "metadata": {
    "scrolled": true
   },
   "outputs": [
    {
     "name": "stdout",
     "output_type": "stream",
     "text": [
      "/home/ubuntu/TransENV\n"
     ]
    }
   ],
   "source": [
    "cd ..\n",
    "mkdir -p TransENV\n",
    "cd TransENV\n",
    "pwd"
   ]
  },
  {
   "cell_type": "code",
   "execution_count": 9,
   "metadata": {},
   "outputs": [
    {
     "name": "stdout",
     "output_type": "stream",
     "text": [
      "/home/ubuntu/TransENV\n"
     ]
    }
   ],
   "source": [
    "pwd"
   ]
  },
  {
   "cell_type": "markdown",
   "metadata": {},
   "source": [
    "# Program Installation\n",
    "    \n",
    "    The programs we will install are:\n",
    "        1. BBMap v. 35.92\n",
    "        2. Star v. 2.5\n",
    "        3. samtools v. 1.3-0\n",
    "        4. htseq v. 0.6.1\n",
    "        5. deeptools v. 2.2.4-0\n",
    "        6. bedtools v. 2.16.2-0\n",
    "        7. deseq2 v. 1.10.0-0\n",
    "        8. bigWigAverageOverBed (latest version, 377-0 latest available on 5/16/2019)\n",
    "        9. sra toolkit (latest version, 2.9.1_1-0 latest available on 5/16/2019)\n",
    "    "
   ]
  },
  {
   "cell_type": "markdown",
   "metadata": {},
   "source": [
    "1. First we will install BBMap v. 35.92 using conda\n",
    "    https://bioconda.github.io/recipes/bbmap/README.html"
   ]
  },
  {
   "cell_type": "code",
   "execution_count": 14,
   "metadata": {
    "scrolled": true
   },
   "outputs": [
    {
     "name": "stdout",
     "output_type": "stream",
     "text": [
      "Collecting package metadata: done\n",
      "Solving environment: done\n",
      "\n",
      "## Package Plan ##\n",
      "\n",
      "  environment location: /home/ubuntu/anaconda3\n",
      "\n",
      "  added / updated specs:\n",
      "    - bbmap=36.32-0\n",
      "\n",
      "\n",
      "The following packages will be downloaded:\n",
      "\n",
      "    package                    |            build\n",
      "    ---------------------------|-----------------\n",
      "    bbmap-36.32                |                0         4.0 MB  bioconda\n",
      "    java-jdk-8.0.112           |                1           4 KB  bioconda\n",
      "    openjdk-8.0.112            |   zulu8.19.0.1_3        47.7 MB  conda-forge\n",
      "    ------------------------------------------------------------\n",
      "                                           Total:        51.7 MB\n",
      "\n",
      "The following NEW packages will be INSTALLED:\n",
      "\n",
      "  bbmap              bioconda/linux-64::bbmap-36.32-0\n",
      "  java-jdk           bioconda/linux-64::java-jdk-8.0.112-1\n",
      "  openjdk            conda-forge/linux-64::openjdk-8.0.112-zulu8.19.0.1_3\n",
      "\n",
      "\n",
      "\n",
      "Downloading and Extracting Packages\n",
      "openjdk-8.0.112      | 47.7 MB   | ##################################### | 100% \n",
      "java-jdk-8.0.112     | 4 KB      | ##################################### | 100% \n",
      "bbmap-36.32          | 4.0 MB    | ##################################### | 100% \n",
      "Preparing transaction: done\n",
      "Verifying transaction: done\n",
      "Executing transaction: done\n"
     ]
    }
   ],
   "source": [
    "conda install -y bbmap=36.32-0"
   ]
  },
  {
   "cell_type": "code",
   "execution_count": 10,
   "metadata": {},
   "outputs": [
    {
     "name": "stdout",
     "output_type": "stream",
     "text": [
      "bbmap: command not found\n",
      "(base) "
     ]
    },
    {
     "ename": "",
     "evalue": "1",
     "output_type": "error",
     "traceback": []
    }
   ],
   "source": [
    "bbmap"
   ]
  },
  {
   "cell_type": "markdown",
   "metadata": {},
   "source": [
    "2. Next we will install Star v. 2.5\n",
    "    https://bioconda.github.io/recipes/star/README.html"
   ]
  },
  {
   "cell_type": "code",
   "execution_count": 15,
   "metadata": {},
   "outputs": [
    {
     "name": "stdout",
     "output_type": "stream",
     "text": [
      "Collecting package metadata: done\n",
      "Solving environment: done\n",
      "\n",
      "## Package Plan ##\n",
      "\n",
      "  environment location: /home/ubuntu/anaconda3\n",
      "\n",
      "  added / updated specs:\n",
      "    - star=2.5.1b-0\n",
      "\n",
      "\n",
      "The following packages will be downloaded:\n",
      "\n",
      "    package                    |            build\n",
      "    ---------------------------|-----------------\n",
      "    star-2.5.1b                |                0         7.8 MB  bioconda\n",
      "    ------------------------------------------------------------\n",
      "                                           Total:         7.8 MB\n",
      "\n",
      "The following NEW packages will be INSTALLED:\n",
      "\n",
      "  star               bioconda/linux-64::star-2.5.1b-0\n",
      "\n",
      "\n",
      "\n",
      "Downloading and Extracting Packages\n",
      "star-2.5.1b          | 7.8 MB    | ##################################### | 100% \n",
      "Preparing transaction: done\n",
      "Verifying transaction: done\n",
      "Executing transaction: done\n"
     ]
    }
   ],
   "source": [
    "conda install -y star=2.5.1b-0"
   ]
  },
  {
   "cell_type": "markdown",
   "metadata": {},
   "source": [
    "3. Next we will install samtools v. 1.3-0\n",
    "    https://bioconda.github.io/recipes/samtools/README.html"
   ]
  },
  {
   "cell_type": "code",
   "execution_count": 16,
   "metadata": {},
   "outputs": [
    {
     "name": "stdout",
     "output_type": "stream",
     "text": [
      "Collecting package metadata: done\n",
      "Solving environment: done\n",
      "\n",
      "## Package Plan ##\n",
      "\n",
      "  environment location: /home/ubuntu/anaconda3\n",
      "\n",
      "  added / updated specs:\n",
      "    - samtools=1.3-0\n",
      "\n",
      "\n",
      "The following packages will be downloaded:\n",
      "\n",
      "    package                    |            build\n",
      "    ---------------------------|-----------------\n",
      "    samtools-1.3               |                2         1.5 MB  bioconda\n",
      "    ------------------------------------------------------------\n",
      "                                           Total:         1.5 MB\n",
      "\n",
      "The following NEW packages will be INSTALLED:\n",
      "\n",
      "  samtools           bioconda/linux-64::samtools-1.3-2\n",
      "\n",
      "\n",
      "\n",
      "Downloading and Extracting Packages\n",
      "samtools-1.3         | 1.5 MB    | ##################################### | 100% \n",
      "Preparing transaction: done\n",
      "Verifying transaction: done\n",
      "Executing transaction: done\n"
     ]
    }
   ],
   "source": [
    "conda install -y samtools=1.3-0"
   ]
  },
  {
   "cell_type": "markdown",
   "metadata": {},
   "source": [
    "4. Next we will install htseq v. 0.6.1\n",
    "    https://bioconda.github.io/recipes/htseq/README.html"
   ]
  },
  {
   "cell_type": "code",
   "execution_count": 9,
   "metadata": {},
   "outputs": [
    {
     "name": "stdout",
     "output_type": "stream",
     "text": [
      "(py27) Collecting package metadata: done\n",
      "Solving environment: done\n",
      "\n",
      "## Package Plan ##\n",
      "\n",
      "  environment location: /home/ubuntu/anaconda3/envs/py27\n",
      "\n",
      "  added / updated specs:\n",
      "    - htseq=0.6.1p1-0\n",
      "\n",
      "\n",
      "The following NEW packages will be INSTALLED:\n",
      "\n",
      "  backports          conda-forge/noarch::backports-1.0-py_2\n",
      "  backports.functoo~ conda-forge/noarch::backports.functools_lru_cache-1.5-py_1\n",
      "  backports_abc      conda-forge/noarch::backports_abc-0.5-py_1\n",
      "  cycler             conda-forge/noarch::cycler-0.10.0-py_1\n",
      "  dbus               conda-forge/linux-64::dbus-1.13.6-he372182_0\n",
      "  expat              conda-forge/linux-64::expat-2.2.5-hf484d3e_1002\n",
      "  fontconfig         conda-forge/linux-64::fontconfig-2.13.1-he4413a7_1000\n",
      "  freetype           conda-forge/linux-64::freetype-2.10.0-he983fc9_0\n",
      "  functools32        conda-forge/noarch::functools32-3.2.3.2-py_3\n",
      "  futures            conda-forge/linux-64::futures-3.2.0-py27_1000\n",
      "  gettext            conda-forge/linux-64::gettext-0.19.8.1-hc5be6a0_1002\n",
      "  glib               conda-forge/linux-64::glib-2.58.3-hf63aee3_1001\n",
      "  gst-plugins-base   conda-forge/linux-64::gst-plugins-base-1.14.4-hdf3bae2_1001\n",
      "  gstreamer          conda-forge/linux-64::gstreamer-1.14.4-h66beb1c_1001\n",
      "  htseq              bioconda/linux-64::htseq-0.6.1p1-py27_1\n",
      "  icu                conda-forge/linux-64::icu-58.2-hf484d3e_1000\n",
      "  jpeg               conda-forge/linux-64::jpeg-9c-h14c3975_1001\n",
      "  kiwisolver         conda-forge/linux-64::kiwisolver-1.1.0-py27hc9558a2_0\n",
      "  libblas            conda-forge/linux-64::libblas-3.8.0-10_openblas\n",
      "  libcblas           conda-forge/linux-64::libcblas-3.8.0-10_openblas\n",
      "  libgfortran-ng     pkgs/main/linux-64::libgfortran-ng-7.3.0-hdf63c60_0\n",
      "  libiconv           conda-forge/linux-64::libiconv-1.15-h516909a_1005\n",
      "  liblapack          conda-forge/linux-64::liblapack-3.8.0-10_openblas\n",
      "  libpng             conda-forge/linux-64::libpng-1.6.37-hed695b0_0\n",
      "  libuuid            conda-forge/linux-64::libuuid-2.32.1-h14c3975_1000\n",
      "  libxcb             conda-forge/linux-64::libxcb-1.13-h14c3975_1002\n",
      "  libxml2            conda-forge/linux-64::libxml2-2.9.9-h13577e0_0\n",
      "  matplotlib         pkgs/main/linux-64::matplotlib-2.2.3-py27hb69df0a_0\n",
      "  numpy              conda-forge/linux-64::numpy-1.16.3-py27he5ce36f_0\n",
      "  openblas           conda-forge/linux-64::openblas-0.3.6-h6e990d7_2\n",
      "  pcre               conda-forge/linux-64::pcre-8.41-hf484d3e_1003\n",
      "  pthread-stubs      conda-forge/linux-64::pthread-stubs-0.4-h14c3975_1001\n",
      "  pyparsing          conda-forge/noarch::pyparsing-2.4.0-py_0\n",
      "  pyqt               conda-forge/linux-64::pyqt-5.9.2-py27hcca6a23_0\n",
      "  python-dateutil    conda-forge/noarch::python-dateutil-2.8.0-py_0\n",
      "  pytz               conda-forge/noarch::pytz-2019.1-py_0\n",
      "  qt                 conda-forge/linux-64::qt-5.9.7-h52cfd70_1\n",
      "  singledispatch     conda-forge/linux-64::singledispatch-3.4.0.3-py27_1000\n",
      "  sip                conda-forge/linux-64::sip-4.19.8-py27hf484d3e_1000\n",
      "  six                conda-forge/linux-64::six-1.12.0-py27_1000\n",
      "  subprocess32       conda-forge/linux-64::subprocess32-3.5.3-py27h14c3975_0\n",
      "  tornado            conda-forge/linux-64::tornado-5.1.1-py27h14c3975_1000\n",
      "  xorg-libxau        conda-forge/linux-64::xorg-libxau-1.0.9-h14c3975_0\n",
      "  xorg-libxdmcp      conda-forge/linux-64::xorg-libxdmcp-1.1.3-h516909a_0\n",
      "  xz                 conda-forge/linux-64::xz-5.2.4-h14c3975_1001\n",
      "\n",
      "\n",
      "Preparing transaction: done\n",
      "Verifying transaction: done\n",
      "Executing transaction: done\n",
      "(py27) deactivate does not accept arguments\n",
      "remainder_args: ['-y']\n",
      "\n",
      "(py27) "
     ]
    },
    {
     "ename": "",
     "evalue": "1",
     "output_type": "error",
     "traceback": []
    }
   ],
   "source": [
    "conda activate py27\n",
    "conda install -y htseq=0.6.1p1-0\n",
    "conda deactivate -y"
   ]
  },
  {
   "cell_type": "markdown",
   "metadata": {},
   "source": [
    "Install pysam "
   ]
  },
  {
   "cell_type": "code",
   "execution_count": 14,
   "metadata": {},
   "outputs": [
    {
     "name": "stdout",
     "output_type": "stream",
     "text": [
      "(py27) Collecting package metadata: done\n",
      "Solving environment: done\n",
      "\n",
      "## Package Plan ##\n",
      "\n",
      "  environment location: /home/ubuntu/anaconda3/envs/py27\n",
      "\n",
      "  added / updated specs:\n",
      "    - pysam\n",
      "\n",
      "\n",
      "The following packages will be downloaded:\n",
      "\n",
      "    package                    |            build\n",
      "    ---------------------------|-----------------\n",
      "    bcftools-1.9               |       ha228f0b_4         807 KB  bioconda\n",
      "    htslib-1.9                 |       ha228f0b_7         1.5 MB  bioconda\n",
      "    pysam-0.15.2               |   py27h4b7d16d_3         2.3 MB  bioconda\n",
      "    ------------------------------------------------------------\n",
      "                                           Total:         4.5 MB\n",
      "\n",
      "The following NEW packages will be INSTALLED:\n",
      "\n",
      "  bcftools           bioconda/linux-64::bcftools-1.9-ha228f0b_4\n",
      "  bzip2              conda-forge/linux-64::bzip2-1.0.6-h14c3975_1002\n",
      "  curl               conda-forge/linux-64::curl-7.64.1-hf8cf82a_0\n",
      "  htslib             bioconda/linux-64::htslib-1.9-ha228f0b_7\n",
      "  krb5               conda-forge/linux-64::krb5-1.16.3-h05b26f9_1001\n",
      "  libcurl            conda-forge/linux-64::libcurl-7.64.1-hda55be3_0\n",
      "  libdeflate         bioconda/linux-64::libdeflate-1.0-h14c3975_1\n",
      "  libedit            conda-forge/linux-64::libedit-3.1.20170329-hf8c457e_1001\n",
      "  libssh2            conda-forge/linux-64::libssh2-1.8.2-h22169c7_2\n",
      "  pysam              bioconda/linux-64::pysam-0.15.2-py27h4b7d16d_3\n",
      "  samtools           bioconda/linux-64::samtools-1.9-h8571acd_11\n",
      "\n",
      "\n",
      "\n",
      "Downloading and Extracting Packages\n",
      "pysam-0.15.2         | 2.3 MB    | ##################################### | 100% \n",
      "htslib-1.9           | 1.5 MB    | ##################################### | 100% \n",
      "bcftools-1.9         | 807 KB    | ##################################### | 100% \n",
      "Preparing transaction: done\n",
      "Verifying transaction: done\n",
      "Executing transaction: done\n",
      "(py27) deactivate does not accept arguments\n",
      "remainder_args: ['-y']\n",
      "\n",
      "(py27) "
     ]
    },
    {
     "ename": "",
     "evalue": "1",
     "output_type": "error",
     "traceback": []
    }
   ],
   "source": [
    "conda activate py27\n",
    "conda install -y pysam\n",
    "conda deactivate -y"
   ]
  },
  {
   "cell_type": "markdown",
   "metadata": {},
   "source": [
    "5. Next we will install deeptools v. 2.2.4-0\n",
    "    https://bioconda.github.io/recipes/deeptools/README.html"
   ]
  },
  {
   "cell_type": "code",
   "execution_count": null,
   "metadata": {},
   "outputs": [
    {
     "name": "stdout",
     "output_type": "stream",
     "text": [
      "Collecting package metadata: - \b\b\\ \b\b| \b\b/ \b\b- \b\b\\ \b\b| \b\b/ \b\b- \b\b\\ \b\b| \b\b/ \b\b- \b\b\\ \b\b| \b\b/ \b\b- \b\b\\ \b\b| \b\b/ \b\b- \b\b\\ \b\b| \b\b/ \b\b- \b\b\\ \b\b| \b\b/ \b\b- \b\b\\ \b\b| \b\b/ \b\b- \b\b\\ \b\b| \b\b/ \b\b- \b\b\\ \b\b| \b\b/ \b\b- \b\b\\ \b\b| \b\b/ \b\b- \b\b\\ \b\b| \b\b/ \b\b- \b\b\\ \b\b| \b\b/ \b\b- \b\b\\ \b\b| \b\b/ \b\b- \b\b\\ \b\b| \b\b/ \b\b- \b\b\\ \b\b| \b\b/ \b\b- \b\b\\ \b\b| \b\b/ \b\b- \b\b\\ \b\b| \b\b/ \b\b- \b\b\\ \b\b| \b\b/ \b\b- \b\b\\ \b\b| \b\b/ \b\b- \b\b\\ \b\b| \b\b/ \b\b- \b\b\\ \b\b| \b\b/ \b\b- \b\b\\ \b\b| \b\b/ \b\b- \b\b\\ \b\b| \b\b/ \b\bdone\n"
     ]
    }
   ],
   "source": [
    "conda install -y deeptools=2.2.4-0"
   ]
  },
  {
   "cell_type": "markdown",
   "metadata": {},
   "source": [
    "6. Next we will install bedtools v. 2.16.2-0\n",
    "    https://bioconda.github.io/recipes/bedtools/README.html"
   ]
  },
  {
   "cell_type": "code",
   "execution_count": 4,
   "metadata": {},
   "outputs": [
    {
     "name": "stdout",
     "output_type": "stream",
     "text": [
      "Collecting package metadata: done\n",
      "Solving environment: done\n",
      "\n",
      "# All requested packages already installed.\n",
      "\n"
     ]
    }
   ],
   "source": [
    "conda install -y bedtools=2.16.2-0"
   ]
  },
  {
   "cell_type": "markdown",
   "metadata": {},
   "source": [
    "7. Next we will install deseq2 v. 1.10.0-0"
   ]
  },
  {
   "cell_type": "code",
   "execution_count": 10,
   "metadata": {},
   "outputs": [
    {
     "name": "stdout",
     "output_type": "stream",
     "text": [
      "Loading channels: done\n",
      "bioconductor-deseq2 1.8.2 r3.2.2_0\n",
      "----------------------------------\n",
      "file name   : bioconductor-deseq2-1.8.2-r3.2.2_0.tar.bz2\n",
      "name        : bioconductor-deseq2\n",
      "version     : 1.8.2\n",
      "build       : r3.2.2_0\n",
      "build number: 0\n",
      "size        : 1.4 MB\n",
      "license     : LGPL (>= 3)\n",
      "subdir      : linux-64\n",
      "url         : https://conda.anaconda.org/bioconda/linux-64/bioconductor-deseq2-1.8.2-r3.2.2_0.tar.bz2\n",
      "md5         : c60fe8c139ed20f3c92a68ed2bf7dd33\n",
      "dependencies: \n",
      "  - bioconductor-biobase\n",
      "  - bioconductor-biocgenerics >=0.7.5\n",
      "  - bioconductor-biocparallel\n",
      "  - bioconductor-genefilter\n",
      "  - bioconductor-geneplotter\n",
      "  - bioconductor-genomicranges\n",
      "  - bioconductor-iranges\n",
      "  - bioconductor-s4vectors\n",
      "  - r 3.2.2*\n",
      "  - r-ggplot2\n",
      "  - r-hmisc\n",
      "  - r-locfit\n",
      "  - r-rcpp >=0.10.1\n",
      "  - r-rcpparmadillo >=0.3.4.4\n",
      "\n",
      "\n",
      "bioconductor-deseq2 1.10.0 r3.2.2_0\n",
      "-----------------------------------\n",
      "file name   : bioconductor-deseq2-1.10.0-r3.2.2_0.tar.bz2\n",
      "name        : bioconductor-deseq2\n",
      "version     : 1.10.0\n",
      "build       : r3.2.2_0\n",
      "build number: 0\n",
      "size        : 1.4 MB\n",
      "license     : LGPL (>= 3)\n",
      "subdir      : linux-64\n",
      "url         : https://conda.anaconda.org/bioconda/linux-64/bioconductor-deseq2-1.10.0-r3.2.2_0.tar.bz2\n",
      "md5         : fd081ea2f0a559d92c95a8956c54941b\n",
      "dependencies: \n",
      "  - bioconductor-biobase\n",
      "  - bioconductor-biocgenerics >=0.7.5\n",
      "  - bioconductor-biocparallel\n",
      "  - bioconductor-genefilter\n",
      "  - bioconductor-geneplotter\n",
      "  - bioconductor-genomicranges\n",
      "  - bioconductor-iranges\n",
      "  - bioconductor-s4vectors\n",
      "  - bioconductor-summarizedexperiment >=0.2.0\n",
      "  - r 3.2.2*\n",
      "  - r-ggplot2\n",
      "  - r-hmisc\n",
      "  - r-locfit\n",
      "  - r-rcpp >=0.10.1\n",
      "  - r-rcpparmadillo >=0.3.4.4\n",
      "\n",
      "\n",
      "bioconductor-deseq2 1.10.0 r3.2.2_1\n",
      "-----------------------------------\n",
      "file name   : bioconductor-deseq2-1.10.0-r3.2.2_1.tar.bz2\n",
      "name        : bioconductor-deseq2\n",
      "version     : 1.10.0\n",
      "build       : r3.2.2_1\n",
      "build number: 1\n",
      "size        : 873 KB\n",
      "license     : LGPL (>= 3)\n",
      "subdir      : linux-64\n",
      "url         : https://conda.anaconda.org/bioconda/linux-64/bioconductor-deseq2-1.10.0-r3.2.2_1.tar.bz2\n",
      "md5         : 4b045987efc7636769eba9388560e2f6\n",
      "dependencies: \n",
      "  - bioconductor-biobase\n",
      "  - bioconductor-biocgenerics >=0.7.5\n",
      "  - bioconductor-biocparallel\n",
      "  - bioconductor-genefilter\n",
      "  - bioconductor-geneplotter\n",
      "  - bioconductor-genomicranges\n",
      "  - bioconductor-iranges\n",
      "  - bioconductor-s4vectors\n",
      "  - bioconductor-summarizedexperiment >=0.2.0\n",
      "  - r 3.2.2*\n",
      "  - r-ggplot2\n",
      "  - r-hmisc\n",
      "  - r-locfit\n",
      "  - r-rcpp >=0.10.1\n",
      "  - r-rcpparmadillo >=0.3.4.4\n",
      "\n",
      "\n",
      "bioconductor-deseq2 1.10.1 r3.2.2_0\n",
      "-----------------------------------\n",
      "file name   : bioconductor-deseq2-1.10.1-r3.2.2_0.tar.bz2\n",
      "name        : bioconductor-deseq2\n",
      "version     : 1.10.1\n",
      "build       : r3.2.2_0\n",
      "build number: 0\n",
      "size        : 1.4 MB\n",
      "license     : LGPL (>= 3)\n",
      "subdir      : linux-64\n",
      "url         : https://conda.anaconda.org/bioconda/linux-64/bioconductor-deseq2-1.10.1-r3.2.2_0.tar.bz2\n",
      "md5         : 0aa952b3fabbef58d7cbeae968bbe15b\n",
      "dependencies: \n",
      "  - bioconductor-biobase\n",
      "  - bioconductor-biocgenerics >=0.7.5\n",
      "  - bioconductor-biocparallel\n",
      "  - bioconductor-genefilter\n",
      "  - bioconductor-geneplotter\n",
      "  - bioconductor-genomicranges\n",
      "  - bioconductor-iranges\n",
      "  - bioconductor-s4vectors\n",
      "  - bioconductor-summarizedexperiment >=0.2.0\n",
      "  - r 3.2.2*\n",
      "  - r-ggplot2\n",
      "  - r-hmisc\n",
      "  - r-locfit\n",
      "  - r-rcpp >=0.10.1\n",
      "  - r-rcpparmadillo >=0.3.4.4\n",
      "\n",
      "\n",
      "bioconductor-deseq2 1.12.4 r3.3.1_1\n",
      "-----------------------------------\n",
      "file name   : bioconductor-deseq2-1.12.4-r3.3.1_1.tar.bz2\n",
      "name        : bioconductor-deseq2\n",
      "version     : 1.12.4\n",
      "build       : r3.3.1_1\n",
      "build number: 1\n",
      "size        : 1.6 MB\n",
      "license     : LGPL (>= 3)\n",
      "subdir      : linux-64\n",
      "url         : https://conda.anaconda.org/bioconda/linux-64/bioconductor-deseq2-1.12.4-r3.3.1_1.tar.bz2\n",
      "md5         : affd3dd2332d37a31cecbbd73e210839\n",
      "dependencies: \n",
      "  - bioconductor-biobase\n",
      "  - bioconductor-biocgenerics >=0.7.5\n",
      "  - bioconductor-biocparallel\n",
      "  - bioconductor-genefilter\n",
      "  - bioconductor-geneplotter\n",
      "  - bioconductor-genomicranges\n",
      "  - bioconductor-iranges\n",
      "  - bioconductor-s4vectors >=0.9.25\n",
      "  - bioconductor-summarizedexperiment >=1.1.6\n",
      "  - bioconductor-tximport\n",
      "  - libgcc\n",
      "  - r 3.3.1*\n",
      "  - r-getopt\n",
      "  - r-ggplot2\n",
      "  - r-hmisc\n",
      "  - r-hmisc\n",
      "  - r-locfit\n",
      "  - r-rcpp >=0.11.0\n",
      "  - r-rcpparmadillo\n",
      "  - r-rjson\n",
      "\n",
      "\n",
      "bioconductor-deseq2 1.12.4 r3.3.1_2\n",
      "-----------------------------------\n",
      "file name   : bioconductor-deseq2-1.12.4-r3.3.1_2.tar.bz2\n",
      "name        : bioconductor-deseq2\n",
      "version     : 1.12.4\n",
      "build       : r3.3.1_2\n",
      "build number: 2\n",
      "size        : 1.6 MB\n",
      "license     : LGPL (>= 3)\n",
      "subdir      : linux-64\n",
      "url         : https://conda.anaconda.org/bioconda/linux-64/bioconductor-deseq2-1.12.4-r3.3.1_2.tar.bz2\n",
      "md5         : 362ba5be1f3f510b6e8612edce7111db\n",
      "dependencies: \n",
      "  - bioconductor-biobase\n",
      "  - bioconductor-biocgenerics >=0.7.5\n",
      "  - bioconductor-biocparallel\n",
      "  - bioconductor-genefilter\n",
      "  - bioconductor-geneplotter\n",
      "  - bioconductor-genomicfeatures\n",
      "  - bioconductor-genomicranges\n",
      "  - bioconductor-iranges\n",
      "  - bioconductor-s4vectors >=0.9.25\n",
      "  - bioconductor-summarizedexperiment >=1.1.6\n",
      "  - bioconductor-tximport\n",
      "  - libgcc\n",
      "  - r 3.3.1*\n",
      "  - r-getopt\n",
      "  - r-ggplot2\n",
      "  - r-gplots\n",
      "  - r-hmisc\n",
      "  - r-hmisc\n",
      "  - r-locfit\n",
      "  - r-rcpp >=0.11.0\n",
      "  - r-rcpparmadillo\n",
      "  - r-rjson\n",
      "\n",
      "\n",
      "bioconductor-deseq2 1.12.4 r3.3.1_3\n",
      "-----------------------------------\n",
      "file name   : bioconductor-deseq2-1.12.4-r3.3.1_3.tar.bz2\n",
      "name        : bioconductor-deseq2\n",
      "version     : 1.12.4\n",
      "build       : r3.3.1_3\n",
      "build number: 3\n",
      "size        : 1.6 MB\n",
      "license     : LGPL (>= 3)\n",
      "subdir      : linux-64\n",
      "url         : https://conda.anaconda.org/bioconda/linux-64/bioconductor-deseq2-1.12.4-r3.3.1_3.tar.bz2\n",
      "md5         : 38a09d56ca975529a139e8dd5cf7979f\n",
      "dependencies: \n",
      "  - bioconductor-biobase\n",
      "  - bioconductor-biocgenerics >=0.7.5\n",
      "  - bioconductor-biocparallel\n",
      "  - bioconductor-genefilter\n",
      "  - bioconductor-geneplotter\n",
      "  - bioconductor-genomicfeatures\n",
      "  - bioconductor-genomicranges\n",
      "  - bioconductor-iranges\n",
      "  - bioconductor-s4vectors >=0.9.25\n",
      "  - bioconductor-summarizedexperiment >=1.1.6\n",
      "  - bioconductor-tximport\n",
      "  - libgcc\n",
      "  - r 3.3.1*\n",
      "  - r-getopt\n",
      "  - r-ggplot2\n",
      "  - r-gplots\n",
      "  - r-hmisc\n",
      "  - r-hmisc\n",
      "  - r-locfit\n",
      "  - r-rcpp >=0.11.0\n",
      "  - r-rcpparmadillo\n",
      "  - r-rjson\n",
      "\n",
      "\n",
      "bioconductor-deseq2 1.12.4 r3.3.1_4\n",
      "-----------------------------------\n",
      "file name   : bioconductor-deseq2-1.12.4-r3.3.1_4.tar.bz2\n",
      "name        : bioconductor-deseq2\n",
      "version     : 1.12.4\n",
      "build       : r3.3.1_4\n",
      "build number: 4\n",
      "size        : 1.6 MB\n",
      "license     : LGPL (>= 3)\n",
      "subdir      : linux-64\n",
      "url         : https://conda.anaconda.org/bioconda/linux-64/bioconductor-deseq2-1.12.4-r3.3.1_4.tar.bz2\n",
      "md5         : 9990028f527b173dab915923f8d35467\n",
      "dependencies: \n",
      "  - bioconductor-biobase\n",
      "  - bioconductor-biocgenerics >=0.7.5\n",
      "  - bioconductor-biocparallel\n",
      "  - bioconductor-genefilter\n",
      "  - bioconductor-geneplotter\n",
      "  - bioconductor-genomicfeatures\n",
      "  - bioconductor-genomicranges\n",
      "  - bioconductor-iranges\n",
      "  - bioconductor-s4vectors >=0.9.25\n",
      "  - bioconductor-summarizedexperiment >=1.1.6\n",
      "  - bioconductor-tximport\n",
      "  - libgcc\n",
      "  - r 3.3.1*\n",
      "  - r-getopt\n",
      "  - r-ggplot2\n",
      "  - r-gplots\n",
      "  - r-hmisc\n",
      "  - r-hmisc\n",
      "  - r-locfit\n",
      "  - r-rcpp >=0.11.0\n",
      "  - r-rcpparmadillo\n",
      "  - r-rjson\n",
      "\n",
      "\n",
      "bioconductor-deseq2 1.12.4 r3.3.1_5\n",
      "-----------------------------------\n",
      "file name   : bioconductor-deseq2-1.12.4-r3.3.1_5.tar.bz2\n",
      "name        : bioconductor-deseq2\n",
      "version     : 1.12.4\n",
      "build       : r3.3.1_5\n",
      "build number: 5\n",
      "size        : 1.6 MB\n",
      "license     : LGPL (>= 3)\n",
      "subdir      : linux-64\n",
      "url         : https://conda.anaconda.org/bioconda/linux-64/bioconductor-deseq2-1.12.4-r3.3.1_5.tar.bz2\n",
      "md5         : 685506a021a063db28ccb63c21228f67\n",
      "dependencies: \n",
      "  - bioconductor-biobase\n",
      "  - bioconductor-biocgenerics >=0.7.5\n",
      "  - bioconductor-biocparallel\n",
      "  - bioconductor-genefilter\n",
      "  - bioconductor-geneplotter\n",
      "  - bioconductor-genomicfeatures\n",
      "  - bioconductor-genomicranges\n",
      "  - bioconductor-iranges\n",
      "  - bioconductor-s4vectors >=0.9.25\n",
      "  - bioconductor-summarizedexperiment >=1.1.6\n",
      "  - bioconductor-tximport\n",
      "  - libgcc\n",
      "  - r 3.3.1*\n",
      "  - r-getopt\n",
      "  - r-ggplot2\n",
      "  - r-gplots\n",
      "  - r-hmisc\n",
      "  - r-hmisc\n",
      "  - r-locfit\n",
      "  - r-rcpp >=0.11.0\n",
      "  - r-rcpparmadillo\n",
      "  - r-rjson\n",
      "\n",
      "\n",
      "bioconductor-deseq2 1.14.1 r3.3.1_0\n",
      "-----------------------------------\n",
      "file name   : bioconductor-deseq2-1.14.1-r3.3.1_0.tar.bz2\n"
     ]
    },
    {
     "name": "stdout",
     "output_type": "stream",
     "text": [
      "name        : bioconductor-deseq2\n",
      "version     : 1.14.1\n",
      "build       : r3.3.1_0\n",
      "build number: 0\n",
      "size        : 1.7 MB\n",
      "license     : LGPL (>= 3)\n",
      "subdir      : linux-64\n",
      "url         : https://conda.anaconda.org/bioconda/linux-64/bioconductor-deseq2-1.14.1-r3.3.1_0.tar.bz2\n",
      "md5         : 74566e84370f2b1f931aebf005a4715f\n",
      "dependencies: \n",
      "  - bioconductor-biobase\n",
      "  - bioconductor-biocgenerics >=0.7.5\n",
      "  - bioconductor-biocparallel\n",
      "  - bioconductor-genefilter\n",
      "  - bioconductor-geneplotter\n",
      "  - bioconductor-genomicfeatures\n",
      "  - bioconductor-genomicranges\n",
      "  - bioconductor-iranges\n",
      "  - bioconductor-s4vectors >=0.9.25\n",
      "  - bioconductor-summarizedexperiment >=1.1.6\n",
      "  - bioconductor-tximport\n",
      "  - libgcc\n",
      "  - r-base 3.3.1*\n",
      "  - r-getopt\n",
      "  - r-ggplot2\n",
      "  - r-gplots\n",
      "  - r-hmisc\n",
      "  - r-hmisc\n",
      "  - r-locfit\n",
      "  - r-rcpp >=0.11.0\n",
      "  - r-rcpparmadillo\n",
      "  - r-rjson\n",
      "\n",
      "\n",
      "bioconductor-deseq2 1.14.1 r3.3.2_0\n",
      "-----------------------------------\n",
      "file name   : bioconductor-deseq2-1.14.1-r3.3.2_0.tar.bz2\n",
      "name        : bioconductor-deseq2\n",
      "version     : 1.14.1\n",
      "build       : r3.3.2_0\n",
      "build number: 0\n",
      "size        : 1.7 MB\n",
      "license     : LGPL (>= 3)\n",
      "subdir      : linux-64\n",
      "url         : https://conda.anaconda.org/bioconda/linux-64/bioconductor-deseq2-1.14.1-r3.3.2_0.tar.bz2\n",
      "md5         : deb9abdc0acc4e07bc8abbbd77967207\n",
      "dependencies: \n",
      "  - bioconductor-biobase\n",
      "  - bioconductor-biocgenerics >=0.7.5\n",
      "  - bioconductor-biocparallel\n",
      "  - bioconductor-genefilter\n",
      "  - bioconductor-geneplotter\n",
      "  - bioconductor-genomicfeatures\n",
      "  - bioconductor-genomicranges\n",
      "  - bioconductor-iranges\n",
      "  - bioconductor-s4vectors >=0.9.25\n",
      "  - bioconductor-summarizedexperiment >=1.1.6\n",
      "  - bioconductor-tximport\n",
      "  - libgcc\n",
      "  - r-base 3.3.2*\n",
      "  - r-getopt\n",
      "  - r-ggplot2\n",
      "  - r-gplots\n",
      "  - r-hmisc\n",
      "  - r-hmisc\n",
      "  - r-locfit\n",
      "  - r-rcpp >=0.11.0\n",
      "  - r-rcpparmadillo\n",
      "  - r-rjson\n",
      "\n",
      "\n",
      "bioconductor-deseq2 1.16.1 r3.3.2_0\n",
      "-----------------------------------\n",
      "file name   : bioconductor-deseq2-1.16.1-r3.3.2_0.tar.bz2\n",
      "name        : bioconductor-deseq2\n",
      "version     : 1.16.1\n",
      "build       : r3.3.2_0\n",
      "build number: 0\n",
      "size        : 1.1 MB\n",
      "license     : LGPL (>= 3)\n",
      "subdir      : linux-64\n",
      "url         : https://conda.anaconda.org/bioconda/linux-64/bioconductor-deseq2-1.16.1-r3.3.2_0.tar.bz2\n",
      "md5         : 27582c19a8472d554a531b8c04eaa331\n",
      "dependencies: \n",
      "  - bioconductor-biobase\n",
      "  - bioconductor-biocgenerics >=0.7.5\n",
      "  - bioconductor-biocparallel\n",
      "  - bioconductor-genefilter\n",
      "  - bioconductor-geneplotter\n",
      "  - bioconductor-genomicfeatures\n",
      "  - bioconductor-genomicranges\n",
      "  - bioconductor-iranges\n",
      "  - bioconductor-s4vectors >=0.9.25\n",
      "  - bioconductor-summarizedexperiment >=1.1.6\n",
      "  - bioconductor-tximport\n",
      "  - libgcc\n",
      "  - r-base 3.3.2*\n",
      "  - r-getopt\n",
      "  - r-ggplot2\n",
      "  - r-gplots\n",
      "  - r-hmisc\n",
      "  - r-hmisc\n",
      "  - r-locfit\n",
      "  - r-rcpp >=0.11.0\n",
      "  - r-rcpparmadillo\n",
      "  - r-rjson\n",
      "\n",
      "\n",
      "bioconductor-deseq2 1.16.1 r3.4.1_0\n",
      "-----------------------------------\n",
      "file name   : bioconductor-deseq2-1.16.1-r3.4.1_0.tar.bz2\n",
      "name        : bioconductor-deseq2\n",
      "version     : 1.16.1\n",
      "build       : r3.4.1_0\n",
      "build number: 0\n",
      "size        : 1.1 MB\n",
      "license     : LGPL (>= 3)\n",
      "subdir      : linux-64\n",
      "url         : https://conda.anaconda.org/bioconda/linux-64/bioconductor-deseq2-1.16.1-r3.4.1_0.tar.bz2\n",
      "md5         : f4ff77558be321a428f830cd5833201a\n",
      "dependencies: \n",
      "  - bioconductor-biobase\n",
      "  - bioconductor-biocgenerics >=0.7.5\n",
      "  - bioconductor-biocparallel\n",
      "  - bioconductor-genefilter\n",
      "  - bioconductor-geneplotter\n",
      "  - bioconductor-genomicfeatures\n",
      "  - bioconductor-genomicranges\n",
      "  - bioconductor-iranges\n",
      "  - bioconductor-s4vectors >=0.9.25\n",
      "  - bioconductor-summarizedexperiment >=1.1.6\n",
      "  - bioconductor-tximport\n",
      "  - libgcc\n",
      "  - r-base 3.4.1*\n",
      "  - r-getopt\n",
      "  - r-ggplot2\n",
      "  - r-gplots\n",
      "  - r-hmisc\n",
      "  - r-hmisc\n",
      "  - r-locfit\n",
      "  - r-rcpp >=0.11.0\n",
      "  - r-rcpparmadillo\n",
      "  - r-rjson\n",
      "\n",
      "\n",
      "bioconductor-deseq2 1.16.1 r3.4.1_2\n",
      "-----------------------------------\n",
      "file name   : bioconductor-deseq2-1.16.1-r3.4.1_2.tar.bz2\n",
      "name        : bioconductor-deseq2\n",
      "version     : 1.16.1\n",
      "build       : r3.4.1_2\n",
      "build number: 2\n",
      "size        : 2.4 MB\n",
      "license     : LGPL (>= 3)\n",
      "subdir      : linux-64\n",
      "url         : https://conda.anaconda.org/bioconda/linux-64/bioconductor-deseq2-1.16.1-r3.4.1_2.tar.bz2\n",
      "md5         : 642dfbc8eb5d8c1e69e2a9733b3eb49a\n",
      "dependencies: \n",
      "  - bioconductor-biobase\n",
      "  - bioconductor-biocgenerics >=0.7.5\n",
      "  - bioconductor-biocparallel\n",
      "  - bioconductor-genefilter\n",
      "  - bioconductor-geneplotter\n",
      "  - bioconductor-genomicranges\n",
      "  - bioconductor-iranges\n",
      "  - bioconductor-s4vectors >=0.9.25\n",
      "  - bioconductor-summarizedexperiment >=1.1.6\n",
      "  - r-base 3.4.1*\n",
      "  - r-ggplot2\n",
      "  - r-hmisc\n",
      "  - r-locfit\n",
      "  - r-rcpp >=0.11.0\n",
      "  - r-rcpparmadillo\n",
      "\n",
      "\n",
      "bioconductor-deseq2 1.16.1 r3.4.1_3\n",
      "-----------------------------------\n",
      "file name   : bioconductor-deseq2-1.16.1-r3.4.1_3.tar.bz2\n",
      "name        : bioconductor-deseq2\n",
      "version     : 1.16.1\n",
      "build       : r3.4.1_3\n",
      "build number: 3\n",
      "size        : 2.4 MB\n",
      "license     : LGPL (>= 3)\n",
      "subdir      : linux-64\n",
      "url         : https://conda.anaconda.org/bioconda/linux-64/bioconductor-deseq2-1.16.1-r3.4.1_3.tar.bz2\n",
      "md5         : b5f49ee4a5f5db36fdbc90026754bbac\n",
      "dependencies: \n",
      "  - bioconductor-biobase\n",
      "  - bioconductor-biocgenerics >=0.7.5\n",
      "  - bioconductor-biocparallel\n",
      "  - bioconductor-genefilter\n",
      "  - bioconductor-geneplotter\n",
      "  - bioconductor-genomicranges\n",
      "  - bioconductor-iranges\n",
      "  - bioconductor-s4vectors >=0.9.25\n",
      "  - bioconductor-summarizedexperiment >=1.1.6\n",
      "  - bioconductor-tximport\n",
      "  - r-base 3.4.1*\n",
      "  - r-getopt\n",
      "  - r-ggplot2\n",
      "  - r-gplots\n",
      "  - r-hmisc\n",
      "  - r-hmisc\n",
      "  - r-locfit\n",
      "  - r-rcpp >=0.11.0\n",
      "  - r-rcpparmadillo\n",
      "  - r-rjson\n",
      "\n",
      "\n",
      "bioconductor-deseq2 1.18.0 r3.4.1_0\n",
      "-----------------------------------\n",
      "file name   : bioconductor-deseq2-1.18.0-r3.4.1_0.tar.bz2\n",
      "name        : bioconductor-deseq2\n",
      "version     : 1.18.0\n",
      "build       : r3.4.1_0\n",
      "build number: 0\n",
      "size        : 2.5 MB\n",
      "license     : LGPL (>= 3)\n",
      "subdir      : linux-64\n",
      "url         : https://conda.anaconda.org/bioconda/linux-64/bioconductor-deseq2-1.18.0-r3.4.1_0.tar.bz2\n",
      "md5         : 8b681bf0946e1ef1a1ce652f5076794c\n",
      "dependencies: \n",
      "  - bioconductor-biobase\n",
      "  - bioconductor-biocgenerics >=0.7.5\n",
      "  - bioconductor-biocparallel\n",
      "  - bioconductor-genefilter\n",
      "  - bioconductor-geneplotter\n",
      "  - bioconductor-genomicranges\n",
      "  - bioconductor-iranges\n",
      "  - bioconductor-s4vectors >=0.9.25\n",
      "  - bioconductor-summarizedexperiment >=1.1.6\n",
      "  - bioconductor-tximport\n",
      "  - r-base 3.4.1*\n",
      "  - r-getopt\n",
      "  - r-ggplot2\n",
      "  - r-gplots\n",
      "  - r-hmisc\n",
      "  - r-hmisc\n",
      "  - r-locfit\n",
      "  - r-rcpp >=0.11.0\n",
      "  - r-rcpparmadillo\n",
      "  - r-rjson\n",
      "\n",
      "\n",
      "bioconductor-deseq2 1.18.1 r3.4.1_1\n",
      "-----------------------------------\n",
      "file name   : bioconductor-deseq2-1.18.1-r3.4.1_1.tar.bz2\n",
      "name        : bioconductor-deseq2\n",
      "version     : 1.18.1\n",
      "build       : r3.4.1_1\n",
      "build number: 1\n",
      "size        : 2.5 MB\n",
      "license     : LGPL (>= 3)\n",
      "subdir      : linux-64\n",
      "url         : https://conda.anaconda.org/bioconda/linux-64/bioconductor-deseq2-1.18.1-r3.4.1_1.tar.bz2\n",
      "md5         : 4793460f773f5cafaa7c5cc5c6005ae7\n",
      "dependencies: \n",
      "  - bioconductor-biobase\n",
      "  - bioconductor-biocgenerics >=0.7.5\n",
      "  - bioconductor-biocparallel >=1.12.0\n",
      "  - bioconductor-genefilter\n",
      "  - bioconductor-geneplotter\n",
      "  - bioconductor-genomicranges\n",
      "  - bioconductor-iranges\n",
      "  - bioconductor-s4vectors >=0.9.25\n",
      "  - bioconductor-summarizedexperiment >=1.8.0\n",
      "  - bioconductor-tximport\n",
      "  - r-base 3.4.1*\n",
      "  - r-getopt\n",
      "  - r-ggplot2\n",
      "  - r-gplots\n",
      "  - r-hmisc\n",
      "  - r-hmisc\n",
      "  - r-lazyeval >=0.2.0\n",
      "  - r-locfit\n",
      "  - r-rcpp >=0.11.0\n",
      "  - r-rcpparmadillo\n",
      "  - r-rjson\n",
      "\n",
      "\n",
      "bioconductor-deseq2 1.20.0 r341hfc679d8_0\n",
      "-----------------------------------------\n",
      "file name   : bioconductor-deseq2-1.20.0-r341hfc679d8_0.tar.bz2\n",
      "name        : bioconductor-deseq2\n",
      "version     : 1.20.0\n",
      "build       : r341hfc679d8_0\n",
      "build number: 0\n",
      "size        : 2.4 MB\n",
      "license     : LGPL (>= 3)\n",
      "subdir      : linux-64\n",
      "url         : https://conda.anaconda.org/bioconda/linux-64/bioconductor-deseq2-1.20.0-r341hfc679d8_0.tar.bz2\n",
      "md5         : f4c728b1e448078599e1c48ae4062be1\n",
      "timestamp   : 2018-10-25 11:15:01 UTC\n",
      "dependencies: \n",
      "  - bioconductor-biobase >=2.40.0,<2.42.0\n",
      "  - bioconductor-biocgenerics >=0.26.0,<0.28.0\n",
      "  - bioconductor-biocparallel >=1.14.2,<1.16.0\n",
      "  - bioconductor-genefilter >=1.62.0,<1.64.0\n",
      "  - bioconductor-geneplotter >=1.58.0,<1.60.0\n",
      "  - bioconductor-genomicranges >=1.32.7,<1.34.0\n",
      "  - bioconductor-iranges >=2.14.12,<2.16.0\n"
     ]
    },
    {
     "name": "stdout",
     "output_type": "stream",
     "text": [
      "  - bioconductor-s4vectors >=0.18.3,<0.20.0\n",
      "  - bioconductor-summarizedexperiment >=1.10.1,<1.12.0\n",
      "  - libgcc-ng >=4.9\n",
      "  - libstdcxx-ng >=4.9\n",
      "  - r-base >=3.4.1,<3.4.2.0a0\n",
      "  - r-ggplot2\n",
      "  - r-hmisc\n",
      "  - r-locfit\n",
      "  - r-rcpp >=0.11.0\n",
      "  - r-rcpparmadillo\n",
      "\n",
      "\n",
      "bioconductor-deseq2 1.20.0 r351hfc679d8_0\n",
      "-----------------------------------------\n",
      "file name   : bioconductor-deseq2-1.20.0-r351hfc679d8_0.tar.bz2\n",
      "name        : bioconductor-deseq2\n",
      "version     : 1.20.0\n",
      "build       : r351hfc679d8_0\n",
      "build number: 0\n",
      "size        : 2.6 MB\n",
      "license     : LGPL (>= 3)\n",
      "subdir      : linux-64\n",
      "url         : https://conda.anaconda.org/bioconda/linux-64/bioconductor-deseq2-1.20.0-r351hfc679d8_0.tar.bz2\n",
      "md5         : 55146956b17e116fe6c10e8acb9f682e\n",
      "timestamp   : 2018-10-25 11:18:16 UTC\n",
      "dependencies: \n",
      "  - bioconductor-biobase >=2.40.0,<2.42.0\n",
      "  - bioconductor-biocgenerics >=0.26.0,<0.28.0\n",
      "  - bioconductor-biocparallel >=1.14.2,<1.16.0\n",
      "  - bioconductor-genefilter >=1.62.0,<1.64.0\n",
      "  - bioconductor-geneplotter >=1.58.0,<1.60.0\n",
      "  - bioconductor-genomicranges >=1.32.7,<1.34.0\n",
      "  - bioconductor-iranges >=2.14.12,<2.16.0\n",
      "  - bioconductor-s4vectors >=0.18.3,<0.20.0\n",
      "  - bioconductor-summarizedexperiment >=1.10.1,<1.12.0\n",
      "  - libgcc-ng >=4.9\n",
      "  - libstdcxx-ng >=4.9\n",
      "  - r-base >=3.5.1,<3.5.2.0a0\n",
      "  - r-ggplot2\n",
      "  - r-hmisc\n",
      "  - r-locfit\n",
      "  - r-rcpp >=0.11.0\n",
      "  - r-rcpparmadillo\n",
      "\n",
      "\n",
      "bioconductor-deseq2 1.22.1 r351hf484d3e_0\n",
      "-----------------------------------------\n",
      "file name   : bioconductor-deseq2-1.22.1-r351hf484d3e_0.tar.bz2\n",
      "name        : bioconductor-deseq2\n",
      "version     : 1.22.1\n",
      "build       : r351hf484d3e_0\n",
      "build number: 0\n",
      "size        : 2.5 MB\n",
      "license     : LGPL (>= 3)\n",
      "subdir      : linux-64\n",
      "url         : https://conda.anaconda.org/bioconda/linux-64/bioconductor-deseq2-1.22.1-r351hf484d3e_0.tar.bz2\n",
      "md5         : 0b21e1d5e2ffc70045ac67d88257d98a\n",
      "timestamp   : 2019-01-01 14:34:13 UTC\n",
      "dependencies: \n",
      "  - bioconductor-biobase >=2.42.0,<2.43.0\n",
      "  - bioconductor-biocgenerics >=0.28.0,<0.29.0\n",
      "  - bioconductor-biocparallel >=1.16.0,<1.17.0\n",
      "  - bioconductor-genefilter >=1.64.0,<1.65.0\n",
      "  - bioconductor-geneplotter >=1.60.0,<1.61.0\n",
      "  - bioconductor-genomicranges >=1.34.0,<1.35.0\n",
      "  - bioconductor-iranges >=2.16.0,<2.17.0\n",
      "  - bioconductor-s4vectors >=0.20.0,<0.21.0\n",
      "  - bioconductor-summarizedexperiment >=1.12.0,<1.13.0\n",
      "  - libgcc-ng >=7.3.0\n",
      "  - libstdcxx-ng >=7.3.0\n",
      "  - r-base >=3.5.1,<3.5.2.0a0\n",
      "  - r-ggplot2\n",
      "  - r-hmisc\n",
      "  - r-locfit\n",
      "  - r-rcpp >=0.11.0\n",
      "  - r-rcpparmadillo\n",
      "\n",
      "\n"
     ]
    }
   ],
   "source": [
    "conda search bioconductor-deseq2 --info\n",
    "#conda install -y bioconductor-deseq2"
   ]
  },
  {
   "cell_type": "code",
   "execution_count": 3,
   "metadata": {},
   "outputs": [
    {
     "name": "stdout",
     "output_type": "stream",
     "text": [
      "/home/ubuntu/Notebooks\n"
     ]
    }
   ],
   "source": [
    "pwd"
   ]
  },
  {
   "cell_type": "markdown",
   "metadata": {},
   "source": [
    "A second language helped! find a Chinese web site about using Anaconda to install packages that conda cannot find\n",
    "https://blog.csdn.net/ksws0292756/article/details/79192268"
   ]
  },
  {
   "cell_type": "code",
   "execution_count": 14,
   "metadata": {
    "scrolled": true
   },
   "outputs": [
    {
     "name": "stdout",
     "output_type": "stream",
     "text": [
      "Using Anaconda API: https://api.anaconda.org\n",
      "Packages:\n",
      "     Name                      |  Version | Package Types   | Platforms       | Builds    \n",
      "     ------------------------- |   ------ | --------------- | --------------- | ----------\n",
      "     bgruening/bioconductor-deseq2 |  1.11.38 | conda           | linux-64        | r3.2.2_8, r3.2.2_9, r3.2.2_0, r3.2.2_1, r3.2.2_2, r3.2.2_3, r3.2.2_4, r3.2.2_5, r3.2.2_7, r3.2.2_10\n",
      "                                          : Estimate variance-mean dependence in count data from high-throughput sequencing assays and test for differential expression based on a model using the negative binomial distribution.\n",
      "     bioconda/bioconductor-deseq2 |   1.22.1 | conda           | linux-64, osx-64 | r3.3.1_2, r3.3.1_3, r3.3.1_0, r3.3.1_1, r351hfc679d8_0, r3.3.1_4, r3.3.1_5, r3.2.2_0, r3.2.2_1, r351hf484d3e_0, r351h0a44026_0, r3.3.2_0, r3.4.1_1, r3.4.1_0, r3.4.1_3, r3.4.1_2, r341hfc679d8_0\n",
      "                                          : Estimate variance-mean dependence in count data from high-throughput sequencing assays and test for differential expression based on a model using the negative binomial distribution.\n",
      "     guillaumecharbonnier/bioconductor-deseq2 |   1.12.4 | conda           | linux-64        | r3.3.1_6, r3.3.1_4, r3.3.1_5\n",
      "     iuc/bioconductor-deseq2   |  1.8.2gx | conda           | linux-64, osx-64 | r3.2.1_0  \n",
      "                                          : Estimate variance-mean dependence in count data from high-throughput sequencing assays and test for differential expression based on a model using the negative binomial distribution\n",
      "Found 4 packages\n",
      "\n",
      "Run 'anaconda show <USER/PACKAGE>' to get installation details\n"
     ]
    }
   ],
   "source": [
    "anaconda search -t conda bioconductor-deseq2"
   ]
  },
  {
   "cell_type": "code",
   "execution_count": 15,
   "metadata": {
    "scrolled": true
   },
   "outputs": [
    {
     "name": "stdout",
     "output_type": "stream",
     "text": [
      "Using Anaconda API: https://api.anaconda.org\n",
      "Name:    bioconductor-deseq2\n",
      "Summary: Estimate variance-mean dependence in count data from high-throughput sequencing assays and test for differential expression based on a model using the negative binomial distribution.\n",
      "Access:  public\n",
      "Package Types:  conda\n",
      "Versions:\n",
      "   + 1.11.32\n",
      "   + 1.11.37\n",
      "   + 1.11.38\n",
      "\n",
      "To install this package with conda run:\n",
      "     conda install --channel https://conda.anaconda.org/bgruening bioconductor-deseq2\n"
     ]
    }
   ],
   "source": [
    "anaconda show bgruening/bioconductor-deseq2"
   ]
  },
  {
   "cell_type": "code",
   "execution_count": 5,
   "metadata": {
    "scrolled": true
   },
   "outputs": [
    {
     "name": "stdout",
     "output_type": "stream",
     "text": [
      "\n",
      "CondaKeyError: 'channels': 'bioconductor' is not in the 'channels' key of the config file\n",
      "\n"
     ]
    },
    {
     "ename": "",
     "evalue": "1",
     "output_type": "error",
     "traceback": []
    }
   ],
   "source": [
    "conda config --remove channels bioconductor"
   ]
  },
  {
   "cell_type": "code",
   "execution_count": 9,
   "metadata": {
    "scrolled": false
   },
   "outputs": [
    {
     "name": "stdout",
     "output_type": "stream",
     "text": [
      "channels:\n",
      "  - r\n",
      "  - conda-forge\n",
      "  - bioconda\n",
      "  - defaults\n",
      "(base) "
     ]
    },
    {
     "ename": "",
     "evalue": "1",
     "output_type": "error",
     "traceback": []
    }
   ],
   "source": [
    "conda config --show channels"
   ]
  },
  {
   "cell_type": "markdown",
   "metadata": {},
   "source": [
    "This is the cmd to download given by \"anaconda show bgruening/bioconductor-deseq2\""
   ]
  },
  {
   "cell_type": "code",
   "execution_count": 14,
   "metadata": {},
   "outputs": [
    {
     "name": "stdout",
     "output_type": "stream",
     "text": [
      "Collecting package metadata: done\n",
      "Solving environment: done\n",
      "\n",
      "## Package Plan ##\n",
      "\n",
      "  environment location: /home/ubuntu/anaconda3/envs/deseq2\n",
      "\n",
      "  added / updated specs:\n",
      "    - anaconda\n",
      "    - python=3.5\n",
      "\n",
      "\n",
      "The following NEW packages will be INSTALLED:\n",
      "\n",
      "  anaconda           pkgs/main/linux-64::anaconda-custom-py35h104c396_0\n",
      "  bzip2              conda-forge/linux-64::bzip2-1.0.6-h14c3975_1002\n",
      "  ca-certificates    conda-forge/linux-64::ca-certificates-2019.3.9-hecc5488_0\n",
      "  certifi            conda-forge/linux-64::certifi-2018.8.24-py35_1001\n",
      "  libffi             conda-forge/linux-64::libffi-3.2.1-he1b5a44_1006\n",
      "  libgcc-ng          pkgs/main/linux-64::libgcc-ng-8.2.0-hdf63c60_1\n",
      "  libstdcxx-ng       pkgs/main/linux-64::libstdcxx-ng-8.2.0-hdf63c60_1\n",
      "  ncurses            conda-forge/linux-64::ncurses-6.1-hf484d3e_1002\n",
      "  openssl            conda-forge/linux-64::openssl-1.0.2r-h14c3975_0\n",
      "  pip                conda-forge/linux-64::pip-18.0-py35_1001\n",
      "  python             conda-forge/linux-64::python-3.5.5-h5001a0f_2\n",
      "  readline           conda-forge/linux-64::readline-7.0-hf8c457e_1001\n",
      "  setuptools         conda-forge/linux-64::setuptools-40.4.3-py35_0\n",
      "  sqlite             conda-forge/linux-64::sqlite-3.26.0-h67949de_1001\n",
      "  tk                 conda-forge/linux-64::tk-8.6.9-h84994c4_1001\n",
      "  wheel              conda-forge/linux-64::wheel-0.32.0-py35_1000\n",
      "  xz                 conda-forge/linux-64::xz-5.2.4-h14c3975_1001\n",
      "  zlib               conda-forge/linux-64::zlib-1.2.11-h14c3975_1004\n",
      "\n",
      "\n",
      "Preparing transaction: done\n",
      "Verifying transaction: done\n",
      "Executing transaction: done\n",
      "#\n",
      "# To activate this environment, use\n",
      "#\n",
      "#     $ conda activate deseq2\n",
      "#\n",
      "# To deactivate an active environment, use\n",
      "#\n",
      "#     $ conda deactivate\n",
      "\n",
      "(base) "
     ]
    },
    {
     "ename": "",
     "evalue": "1",
     "output_type": "error",
     "traceback": []
    }
   ],
   "source": [
    "conda create -n deseq2 python=3.5 anaconda -y"
   ]
  },
  {
   "cell_type": "code",
   "execution_count": 1,
   "metadata": {},
   "outputs": [
    {
     "name": "stdout",
     "output_type": "stream",
     "text": [
      "(deseq2) "
     ]
    },
    {
     "ename": "",
     "evalue": "1",
     "output_type": "error",
     "traceback": []
    }
   ],
   "source": [
    "conda activate deseq2"
   ]
  },
  {
   "cell_type": "code",
   "execution_count": 1,
   "metadata": {
    "scrolled": true
   },
   "outputs": [
    {
     "name": "stdout",
     "output_type": "stream",
     "text": [
      "Collecting package metadata: done\n",
      "Solving environment: done\n",
      "\n",
      "# All requested packages already installed.\n",
      "\n",
      "(base) "
     ]
    },
    {
     "ename": "",
     "evalue": "1",
     "output_type": "error",
     "traceback": []
    }
   ],
   "source": [
    "conda install -y --channel https://conda.anaconda.org/bgruening bioconductor-deseq2"
   ]
  },
  {
   "cell_type": "markdown",
   "metadata": {},
   "source": [
    "Apperently, it did not finish, need an update"
   ]
  },
  {
   "cell_type": "code",
   "execution_count": 2,
   "metadata": {
    "scrolled": false
   },
   "outputs": [
    {
     "name": "stdout",
     "output_type": "stream",
     "text": [
      "Collecting package metadata: done\n",
      "Solving environment: done\n",
      "\n",
      "# All requested packages already installed.\n",
      "\n",
      "(base) "
     ]
    },
    {
     "ename": "",
     "evalue": "1",
     "output_type": "error",
     "traceback": []
    }
   ],
   "source": [
    "conda update bioconductor-deseq2 -y"
   ]
  },
  {
   "cell_type": "code",
   "execution_count": 3,
   "metadata": {},
   "outputs": [
    {
     "name": "stdout",
     "output_type": "stream",
     "text": [
      "# conda environments:\n",
      "#\n",
      "base                  *  /home/ubuntu/anaconda3\n",
      "deseq2                   /home/ubuntu/anaconda3/envs/deseq2\n",
      "py27                     /home/ubuntu/anaconda3/envs/py27\n",
      "r322                     /home/ubuntu/anaconda3/envs/r322\n",
      "                         /home/ubuntu/test_jupyter/tmp_install/bcbio/anaconda\n",
      "                         /home/ubuntu/test_jupyter/tmp_install/bcbio/anaconda/envs/python3\n",
      "                         /home/ubuntu/test_jupyter/tmp_install/bcbio/anaconda/envs/samtools0\n",
      "\n",
      "(base) "
     ]
    },
    {
     "ename": "",
     "evalue": "1",
     "output_type": "error",
     "traceback": []
    }
   ],
   "source": [
    "conda env list"
   ]
  },
  {
   "cell_type": "code",
   "execution_count": 4,
   "metadata": {
    "scrolled": false
   },
   "outputs": [
    {
     "name": "stdout",
     "output_type": "stream",
     "text": [
      "(deseq2) "
     ]
    },
    {
     "ename": "",
     "evalue": "1",
     "output_type": "error",
     "traceback": []
    }
   ],
   "source": [
    "conda activate deseq2"
   ]
  },
  {
   "cell_type": "code",
   "execution_count": 7,
   "metadata": {},
   "outputs": [
    {
     "name": "stdout",
     "output_type": "stream",
     "text": [
      "Usage: /path/to/Rscript [--options] [-e expr [-e expr2 ...] | file] [args]\n",
      "\n",
      "--options accepted are\n",
      "  --help              Print usage and exit\n",
      "  --version           Print version and exit\n",
      "  --verbose           Print information on progress\n",
      "  --default-packages=list\n",
      "                      Where 'list' is a comma-separated set\n",
      "                        of package names, or 'NULL'\n",
      "or options to R, in addition to --slave --no-restore, such as\n",
      "  --save              Do save workspace at the end of the session\n",
      "  --no-environ        Don't read the site and user environment files\n",
      "  --no-site-file      Don't read the site-wide Rprofile\n",
      "  --no-init-file      Don't read the user R profile\n",
      "  --restore           Do restore previously saved objects at startup\n",
      "  --vanilla           Combine --no-save, --no-restore, --no-site-file\n",
      "                        --no-init-file and --no-environ\n",
      "\n",
      "'file' may contain spaces but not shell metacharacters\n",
      "Expressions (one or more '-e <expr>') may be used *instead* of 'file'\n",
      "See also  ?Rscript  from within R\n",
      "(deseq2) "
     ]
    },
    {
     "ename": "",
     "evalue": "1",
     "output_type": "error",
     "traceback": []
    }
   ],
   "source": [
    "Rscript"
   ]
  },
  {
   "cell_type": "code",
   "execution_count": 1,
   "metadata": {},
   "outputs": [
    {
     "name": "stdout",
     "output_type": "stream",
     "text": [
      "Collecting package metadata: done\n",
      "Solving environment: failed\n",
      "\n",
      "PackagesNotFoundError: The following packages are not available from current channels:\n",
      "\n",
      "  - bioconductor-deseq2=1.10.1 -> r=3.2.2\n",
      "\n",
      "Current channels:\n",
      "\n",
      "  - https://conda.anaconda.org/conda-forge/linux-64\n",
      "  - https://conda.anaconda.org/conda-forge/noarch\n",
      "  - https://conda.anaconda.org/bioconda/linux-64\n",
      "  - https://conda.anaconda.org/bioconda/noarch\n",
      "  - https://repo.anaconda.com/pkgs/main/linux-64\n",
      "  - https://repo.anaconda.com/pkgs/main/noarch\n",
      "  - https://repo.anaconda.com/pkgs/free/linux-64\n",
      "  - https://repo.anaconda.com/pkgs/free/noarch\n",
      "  - https://repo.anaconda.com/pkgs/r/linux-64\n",
      "  - https://repo.anaconda.com/pkgs/r/noarch\n",
      "\n",
      "To search for alternate channels that may provide the conda package you're\n",
      "looking for, navigate to\n",
      "\n",
      "    https://anaconda.org\n",
      "\n",
      "and use the search bar at the top of the page.\n",
      "\n",
      "\n"
     ]
    },
    {
     "ename": "",
     "evalue": "1",
     "output_type": "error",
     "traceback": []
    }
   ],
   "source": [
    "conda install -y bioconductor-deseq2=1.10.1"
   ]
  },
  {
   "cell_type": "markdown",
   "metadata": {},
   "source": [
    "8. Next we will install bigWigAverageOverBed from UCSC tools (377-0 latest available on 5/16/2019)\n",
    "    https://bioconda.github.io/recipes/ucsc-bigwigaverageoverbed/README.html"
   ]
  },
  {
   "cell_type": "code",
   "execution_count": 12,
   "metadata": {},
   "outputs": [
    {
     "name": "stdout",
     "output_type": "stream",
     "text": [
      "Collecting package metadata: done\n",
      "Solving environment: done\n",
      "\n",
      "## Package Plan ##\n",
      "\n",
      "  environment location: /home/ubuntu/anaconda3\n",
      "\n",
      "  added / updated specs:\n",
      "    - ucsc-bigwigaverageoverbed\n",
      "\n",
      "\n",
      "The following packages will be downloaded:\n",
      "\n",
      "    package                    |            build\n",
      "    ---------------------------|-----------------\n",
      "    libuuid-2.32.1             |       h470a237_2          24 KB  conda-forge\n",
      "    mysql-connector-c-6.1.6    |                0         9.7 MB  conda-forge\n",
      "    ucsc-bigwigaverageoverbed-366|       h5eb252a_0         1.1 MB  bioconda\n",
      "    ------------------------------------------------------------\n",
      "                                           Total:        10.8 MB\n",
      "\n",
      "The following NEW packages will be INSTALLED:\n",
      "\n",
      "  libuuid            conda-forge/linux-64::libuuid-2.32.1-h470a237_2\n",
      "  mysql-connector-c  conda-forge/linux-64::mysql-connector-c-6.1.6-0\n",
      "  ucsc-bigwigaverag~ bioconda/linux-64::ucsc-bigwigaverageoverbed-366-h5eb252a_0\n",
      "\n",
      "\n",
      "\n",
      "Downloading and Extracting Packages\n",
      "mysql-connector-c-6. | 9.7 MB    | ##################################### | 100% \n",
      "ucsc-bigwigaverageov | 1.1 MB    | ##################################### | 100% \n",
      "libuuid-2.32.1       | 24 KB     | ##################################### | 100% \n",
      "Preparing transaction: done\n",
      "Verifying transaction: done\n",
      "Executing transaction: done\n"
     ]
    }
   ],
   "source": [
    "conda install -y ucsc-bigwigaverageoverbed"
   ]
  },
  {
   "cell_type": "markdown",
   "metadata": {},
   "source": [
    "9. Next we will install SRA-tools (2.9.1_1-0 latest available on 5/16/2019)\n",
    "    https://bioconda.github.io/recipes/sra-tools/README.html"
   ]
  },
  {
   "cell_type": "code",
   "execution_count": 12,
   "metadata": {},
   "outputs": [
    {
     "name": "stdout",
     "output_type": "stream",
     "text": [
      "Solving environment: done\n",
      "\n",
      "## Package Plan ##\n",
      "\n",
      "  environment location: /home/ubuntu/anaconda3\n",
      "\n",
      "  added / updated specs: \n",
      "    - sra-tools\n",
      "\n",
      "\n",
      "The following packages will be downloaded:\n",
      "\n",
      "    package                    |            build\n",
      "    ---------------------------|-----------------\n",
      "    certifi-2018.4.16          |           py36_0         142 KB  conda-forge\n",
      "    sra-tools-2.9.1_1          |       h470a237_0        38.0 MB  bioconda\n",
      "    conda-4.6.14               |           py36_0         2.1 MB  conda-forge\n",
      "    ------------------------------------------------------------\n",
      "                                           Total:        40.2 MB\n",
      "\n",
      "The following NEW packages will be INSTALLED:\n",
      "\n",
      "    sra-tools: 2.9.1_1-h470a237_0 bioconda\n",
      "\n",
      "The following packages will be UPDATED:\n",
      "\n",
      "    certifi:   2018.4.16-py36_0            --> 2018.4.16-py36_0 conda-forge\n",
      "    conda:     4.5.4-py36_0                --> 4.6.14-py36_0    conda-forge\n",
      "\n",
      "\n",
      "Downloading and Extracting Packages\n",
      "certifi-2018.4.16    |  142 KB | ####################################### | 100% \n",
      "sra-tools-2.9.1_1    | 38.0 MB | ####################################### | 100% \n",
      "conda-4.6.14         |  2.1 MB | ####################################### | 100% \n",
      "Preparing transaction: done\n",
      "Verifying transaction: done\n",
      "Executing transaction: done\n"
     ]
    }
   ],
   "source": [
    "conda install -y sra-tools"
   ]
  },
  {
   "cell_type": "code",
   "execution_count": null,
   "metadata": {},
   "outputs": [],
   "source": [
    "which sra-tools"
   ]
  },
  {
   "cell_type": "markdown",
   "metadata": {},
   "source": [
    "\n",
    "Download the TJPARNELL / Bio-ToolBox-1.65 / scripts / ucsc_table2gff3.pl\n"
   ]
  },
  {
   "cell_type": "code",
   "execution_count": 3,
   "metadata": {},
   "outputs": [
    {
     "name": "stdout",
     "output_type": "stream",
     "text": [
      "--> Working on ucsc_table2gff3.pl\n",
      "Fetching file:///home/ubuntu/software/ucsc_table2gff3.pl ... OK\n",
      "\n",
      "gzip: stdin: not in gzip format\n",
      "/bin/tar: Child returned status 1\n",
      "/bin/tar: Error is not recoverable: exiting now\n",
      "! Failed to unpack ucsc_table2gff3.pl: no directory\n",
      "! Failed to fetch distribution \n"
     ]
    },
    {
     "ename": "",
     "evalue": "1",
     "output_type": "error",
     "traceback": []
    }
   ],
   "source": [
    "cd ~/software\n",
    "#wget 'https://metacpan.org/release/Bio-ToolBox/source/scripts/ucsc_table2gff3.pl?raw=1'\n",
    "cpanm ucsc_table2gff3.pl"
   ]
  },
  {
   "cell_type": "code",
   "execution_count": 6,
   "metadata": {},
   "outputs": [
    {
     "name": "stdout",
     "output_type": "stream",
     "text": [
      "# conda environments:\n",
      "#\n",
      "base                  *  /home/ubuntu/anaconda3\n",
      "                         /home/ubuntu/test_jupyter/tmp_install/bcbio/anaconda\n",
      "                         /home/ubuntu/test_jupyter/tmp_install/bcbio/anaconda/envs/python3\n",
      "                         /home/ubuntu/test_jupyter/tmp_install/bcbio/anaconda/envs/samtools0\n",
      "\n"
     ]
    }
   ],
   "source": [
    "conda env list"
   ]
  },
  {
   "cell_type": "code",
   "execution_count": 11,
   "metadata": {},
   "outputs": [
    {
     "name": "stdout",
     "output_type": "stream",
     "text": [
      "Collecting package metadata: done\n",
      "Solving environment: done\n",
      "\n",
      "## Package Plan ##\n",
      "\n",
      "  environment location: /home/ubuntu/anaconda3/envs/py27\n",
      "\n",
      "  added / updated specs:\n",
      "    - anaconda\n",
      "    - python=2.7\n",
      "\n",
      "\n",
      "The following packages will be downloaded:\n",
      "\n",
      "    package                    |            build\n",
      "    ---------------------------|-----------------\n",
      "    anaconda-custom            |   py27h4a00acb_0           6 KB\n",
      "    certifi-2019.3.9           |           py27_0         149 KB  conda-forge\n",
      "    pip-19.1                   |           py27_0         1.8 MB  conda-forge\n",
      "    python-2.7.15              |    h721da81_1008        12.8 MB  conda-forge\n",
      "    setuptools-41.0.1          |           py27_0         650 KB  conda-forge\n",
      "    wheel-0.33.4               |           py27_0          34 KB  conda-forge\n",
      "    ------------------------------------------------------------\n",
      "                                           Total:        15.4 MB\n",
      "\n",
      "The following NEW packages will be INSTALLED:\n",
      "\n",
      "  anaconda           pkgs/main/linux-64::anaconda-custom-py27h4a00acb_0\n",
      "  ca-certificates    conda-forge/linux-64::ca-certificates-2019.3.9-hecc5488_0\n",
      "  certifi            conda-forge/linux-64::certifi-2019.3.9-py27_0\n",
      "  libffi             conda-forge/linux-64::libffi-3.2.1-he1b5a44_1006\n",
      "  libgcc-ng          pkgs/main/linux-64::libgcc-ng-8.2.0-hdf63c60_1\n",
      "  libstdcxx-ng       pkgs/main/linux-64::libstdcxx-ng-8.2.0-hdf63c60_1\n",
      "  ncurses            conda-forge/linux-64::ncurses-6.1-hf484d3e_1002\n",
      "  openssl            conda-forge/linux-64::openssl-1.1.1b-h14c3975_1\n",
      "  pip                conda-forge/linux-64::pip-19.1-py27_0\n",
      "  python             conda-forge/linux-64::python-2.7.15-h721da81_1008\n",
      "  readline           conda-forge/linux-64::readline-7.0-hf8c457e_1001\n",
      "  setuptools         conda-forge/linux-64::setuptools-41.0.1-py27_0\n",
      "  sqlite             conda-forge/linux-64::sqlite-3.26.0-h67949de_1001\n",
      "  tk                 conda-forge/linux-64::tk-8.6.9-h84994c4_1001\n",
      "  wheel              conda-forge/linux-64::wheel-0.33.4-py27_0\n",
      "  zlib               conda-forge/linux-64::zlib-1.2.11-h14c3975_1004\n",
      "\n",
      "\n",
      "\n",
      "Downloading and Extracting Packages\n",
      "wheel-0.33.4         | 34 KB     | ##################################### | 100% \n",
      "python-2.7.15        | 12.8 MB   | ##################################### | 100% \n",
      "pip-19.1             | 1.8 MB    | ##################################### | 100% \n",
      "anaconda-custom      | 6 KB      | ##################################### | 100% \n",
      "certifi-2019.3.9     | 149 KB    | ##################################### | 100% \n",
      "setuptools-41.0.1    | 650 KB    | ##################################### | 100% \n",
      "Preparing transaction: done\n",
      "Verifying transaction: done\n",
      "Executing transaction: done\n",
      "#\n",
      "# To activate this environment, use\n",
      "#\n",
      "#     $ conda activate py27\n",
      "#\n",
      "# To deactivate an active environment, use\n",
      "#\n",
      "#     $ conda deactivate\n",
      "\n",
      "(base) "
     ]
    },
    {
     "ename": "",
     "evalue": "1",
     "output_type": "error",
     "traceback": []
    }
   ],
   "source": [
    "conda create -n py27 python=2.7 anaconda -y"
   ]
  },
  {
   "cell_type": "markdown",
   "metadata": {},
   "source": [
    "\n",
    "Make bed_count.sh script\n"
   ]
  },
  {
   "cell_type": "code",
   "execution_count": 15,
   "metadata": {},
   "outputs": [
    {
     "name": "stdout",
     "output_type": "stream",
     "text": [
      "(py27) (py27) (py27) "
     ]
    },
    {
     "ename": "",
     "evalue": "1",
     "output_type": "error",
     "traceback": []
    }
   ],
   "source": [
    "cd ~/software\n",
    "\n",
    "cat >bed_count.sh <<EOL\n",
    "#!/usr/bin/env bash\n",
    "\n",
    "#expands a bedgraph file to single nucleotide intervals of file $2\n",
    "# and uses bedtools map to count up features over file $1\n",
    "# using sum over column $3\n",
    "# output goes to file $4\n",
    "#ie line from file $2:\n",
    "#   chrI 10 12 20 2 +\n",
    "#will be converted to:\n",
    "#   chrI 10 11 20 2 +\n",
    "#   chrI 11 12 20 2 +\n",
    "# and counts from this file over interval in $1\n",
    "#   chrI 5 20 . . +\n",
    "# will give chrI 5 20 . . + 4\n",
    "\n",
    "awk '{OFS=\"\\t\"}\n",
    "{ start=$2;\n",
    "  end=$3;\n",
    "  for(i=start;i<end;i++){\n",
    "    $2=i;\n",
    "    $3=i+1;\n",
    "    print $0\n",
    "  }\n",
    "}' $2 | \\\n",
    "sort -k1,1 -k2,2n | \\\n",
    "bedtools map -a $1 -b - -c $3 -o sum > $4\n",
    "EOL"
   ]
  },
  {
   "cell_type": "code",
   "execution_count": null,
   "metadata": {},
   "outputs": [],
   "source": []
  }
 ],
 "metadata": {
  "kernelspec": {
   "display_name": "Bash",
   "language": "bash",
   "name": "bash"
  },
  "language_info": {
   "codemirror_mode": "shell",
   "file_extension": ".sh",
   "mimetype": "text/x-sh",
   "name": "bash"
  }
 },
 "nbformat": 4,
 "nbformat_minor": 2
}
