{
 "cells": [
  {
   "cell_type": "markdown",
   "metadata": {},
   "source": [
    "# This notebook downloads the fungi genomes and annotation. In addition it generates the STAR index needed for alignment and the needed adapter trimming fasta file.\n"
   ]
  },
  {
   "cell_type": "markdown",
   "metadata": {},
   "source": [
    "Generate the needed file structure for the downloaded genomes, etc.\n",
    "\n",
    "~\n",
    "+-- _annotations\n",
    "|   +-- _sacCer3_Sp_merged_genome\n",
    "|       +-- _STAR_index\n",
    "|       +-- _fasta\n",
    "|           +-- sacCer3_Sp_merged.fa\n",
    "|       +-- _anno\n",
    "|           +-- r64_2_1.gff3\n",
    "|   +-- _common\n",
    "|       +-- Lexogen_adapters_with_pA.fa.gz\n",
    "|   +-- _sacCer3_UCSC\n",
    "|       +-- \n",
    "|   +-- _Spombe_ENSEMBLE\n",
    "|       +--\n"
   ]
  },
  {
   "cell_type": "code",
   "execution_count": 3,
   "metadata": {},
   "outputs": [],
   "source": [
    "mkdir -p ~/annotations/sacCer3_Sp_merged_genome/fasta\n",
    "mkdir -p ~/annotations/sacCer3_Sp_merged_genome/anno\n",
    "mkdir -p ~/annotations/sacCer3_Sp_merged_genome/STAR_index\n",
    "mkdir -p ~/annotations/common\n",
    "mkdir -p ~/annotations/sacCer3_UCSC\n",
    "mkdir -p ~/annotations/Spombe_ENSEMBLE"
   ]
  },
  {
   "cell_type": "markdown",
   "metadata": {},
   "source": [
    "\n",
    "Download the Saccharomyces cerevisiae genome assembly from UCSC.\n"
   ]
  },
  {
   "cell_type": "code",
   "execution_count": 10,
   "metadata": {},
   "outputs": [
    {
     "name": "stdout",
     "output_type": "stream",
     "text": [
      "--2019-05-17 04:28:13--  ftp://hgdownload.cse.ucsc.edu/goldenPath/sacCer3/chromosomes/*\n",
      "           => ‘.listing’\n",
      "Resolving hgdownload.cse.ucsc.edu (hgdownload.cse.ucsc.edu)... 128.114.119.163\n",
      "Connecting to hgdownload.cse.ucsc.edu (hgdownload.cse.ucsc.edu)|128.114.119.163|:21... connected.\n",
      "Logging in as anonymous ... Logged in!\n",
      "==> SYST ... done.    ==> PWD ... done.\n",
      "==> TYPE I ... done.  ==> CWD (1) /goldenPath/sacCer3/chromosomes ... done.\n",
      "==> PASV ... done.    ==> LIST ... done.\n",
      "\n",
      ".listing                [ <=>                ]   1.38K  --.-KB/s    in 0.002s  \n",
      "\n",
      "2019-05-17 04:28:14 (623 KB/s) - ‘.listing’ saved [1412]\n",
      "\n",
      "Removed ‘.listing’.\n",
      "--2019-05-17 04:28:14--  ftp://hgdownload.cse.ucsc.edu/goldenPath/sacCer3/chromosomes/README.txt\n",
      "           => ‘README.txt’\n",
      "==> CWD not required.\n",
      "==> PASV ... done.    ==> RETR README.txt ... done.\n",
      "Length: 2135 (2.1K)\n",
      "\n",
      "README.txt          100%[===================>]   2.08K  --.-KB/s    in 0s      \n",
      "\n",
      "2019-05-17 04:28:14 (352 MB/s) - ‘README.txt’ saved [2135]\n",
      "\n",
      "--2019-05-17 04:28:14--  ftp://hgdownload.cse.ucsc.edu/goldenPath/sacCer3/chromosomes/chrI.fa.gz\n",
      "           => ‘chrI.fa.gz’\n",
      "==> CWD not required.\n",
      "==> PASV ... done.    ==> RETR chrI.fa.gz ... done.\n",
      "Length: 72227 (71K)\n",
      "\n",
      "chrI.fa.gz          100%[===================>]  70.53K   373KB/s    in 0.2s    \n",
      "\n",
      "2019-05-17 04:28:15 (373 KB/s) - ‘chrI.fa.gz’ saved [72227]\n",
      "\n",
      "--2019-05-17 04:28:15--  ftp://hgdownload.cse.ucsc.edu/goldenPath/sacCer3/chromosomes/chrII.fa.gz\n",
      "           => ‘chrII.fa.gz’\n",
      "==> CWD not required.\n",
      "==> PASV ... done.    ==> RETR chrII.fa.gz ... done.\n",
      "Length: 256424 (250K)\n",
      "\n",
      "chrII.fa.gz         100%[===================>] 250.41K   450KB/s    in 0.6s    \n",
      "\n",
      "2019-05-17 04:28:16 (450 KB/s) - ‘chrII.fa.gz’ saved [256424]\n",
      "\n",
      "--2019-05-17 04:28:16--  ftp://hgdownload.cse.ucsc.edu/goldenPath/sacCer3/chromosomes/chrIII.fa.gz\n",
      "           => ‘chrIII.fa.gz’\n",
      "==> CWD not required.\n",
      "==> PASV ... done.    ==> RETR chrIII.fa.gz ... done.\n",
      "Length: 99914 (98K)\n",
      "\n",
      "chrIII.fa.gz        100%[===================>]  97.57K   310KB/s    in 0.3s    \n",
      "\n",
      "2019-05-17 04:28:16 (310 KB/s) - ‘chrIII.fa.gz’ saved [99914]\n",
      "\n",
      "--2019-05-17 04:28:16--  ftp://hgdownload.cse.ucsc.edu/goldenPath/sacCer3/chromosomes/chrIV.fa.gz\n",
      "           => ‘chrIV.fa.gz’\n",
      "==> CWD not required.\n",
      "==> PASV ... done.    ==> RETR chrIV.fa.gz ... done.\n",
      "Length: 480781 (470K)\n",
      "\n",
      "chrIV.fa.gz         100%[===================>] 469.51K   689KB/s    in 0.7s    \n",
      "\n",
      "2019-05-17 04:28:17 (689 KB/s) - ‘chrIV.fa.gz’ saved [480781]\n",
      "\n",
      "--2019-05-17 04:28:17--  ftp://hgdownload.cse.ucsc.edu/goldenPath/sacCer3/chromosomes/chrIX.fa.gz\n",
      "           => ‘chrIX.fa.gz’\n",
      "==> CWD not required.\n",
      "==> PASV ... done.    ==> RETR chrIX.fa.gz ... done.\n",
      "Length: 138614 (135K)\n",
      "\n",
      "chrIX.fa.gz         100%[===================>] 135.37K   357KB/s    in 0.4s    \n",
      "\n",
      "2019-05-17 04:28:18 (357 KB/s) - ‘chrIX.fa.gz’ saved [138614]\n",
      "\n",
      "--2019-05-17 04:28:18--  ftp://hgdownload.cse.ucsc.edu/goldenPath/sacCer3/chromosomes/chrM.fa.gz\n",
      "           => ‘chrM.fa.gz’\n",
      "==> CWD not required.\n",
      "==> PASV ... done.    ==> RETR chrM.fa.gz ... done.\n",
      "Length: 22765 (22K)\n",
      "\n",
      "chrM.fa.gz          100%[===================>]  22.23K  --.-KB/s    in 0.06s   \n",
      "\n",
      "2019-05-17 04:28:18 (351 KB/s) - ‘chrM.fa.gz’ saved [22765]\n",
      "\n",
      "--2019-05-17 04:28:18--  ftp://hgdownload.cse.ucsc.edu/goldenPath/sacCer3/chromosomes/chrV.fa.gz\n",
      "           => ‘chrV.fa.gz’\n",
      "==> CWD not required.\n",
      "==> PASV ... done.    ==> RETR chrV.fa.gz ... done.\n",
      "Length: 182091 (178K)\n",
      "\n",
      "chrV.fa.gz          100%[===================>] 177.82K   395KB/s    in 0.5s    \n",
      "\n",
      "2019-05-17 04:28:19 (395 KB/s) - ‘chrV.fa.gz’ saved [182091]\n",
      "\n",
      "--2019-05-17 04:28:19--  ftp://hgdownload.cse.ucsc.edu/goldenPath/sacCer3/chromosomes/chrVI.fa.gz\n",
      "           => ‘chrVI.fa.gz’\n",
      "==> CWD not required.\n",
      "==> PASV ... done.    ==> RETR chrVI.fa.gz ... done.\n",
      "Length: 85463 (83K)\n",
      "\n",
      "chrVI.fa.gz         100%[===================>]  83.46K   338KB/s    in 0.2s    \n",
      "\n",
      "2019-05-17 04:28:19 (338 KB/s) - ‘chrVI.fa.gz’ saved [85463]\n",
      "\n",
      "--2019-05-17 04:28:19--  ftp://hgdownload.cse.ucsc.edu/goldenPath/sacCer3/chromosomes/chrVII.fa.gz\n",
      "           => ‘chrVII.fa.gz’\n",
      "==> CWD not required.\n",
      "==> PASV ... done.    ==> RETR chrVII.fa.gz ... done.\n",
      "Length: 343599 (336K)\n",
      "\n",
      "chrVII.fa.gz        100%[===================>] 335.55K   591KB/s    in 0.6s    \n",
      "\n",
      "2019-05-17 04:28:20 (591 KB/s) - ‘chrVII.fa.gz’ saved [343599]\n",
      "\n",
      "--2019-05-17 04:28:20--  ftp://hgdownload.cse.ucsc.edu/goldenPath/sacCer3/chromosomes/chrVIII.fa.gz\n",
      "           => ‘chrVIII.fa.gz’\n",
      "==> CWD not required.\n",
      "==> PASV ... done.    ==> RETR chrVIII.fa.gz ... done.\n",
      "Length: 177051 (173K)\n",
      "\n",
      "chrVIII.fa.gz       100%[===================>] 172.90K   399KB/s    in 0.4s    \n",
      "\n",
      "2019-05-17 04:28:21 (399 KB/s) - ‘chrVIII.fa.gz’ saved [177051]\n",
      "\n",
      "--2019-05-17 04:28:21--  ftp://hgdownload.cse.ucsc.edu/goldenPath/sacCer3/chromosomes/chrX.fa.gz\n",
      "           => ‘chrX.fa.gz’\n",
      "==> CWD not required.\n",
      "==> PASV ... done.    ==> RETR chrX.fa.gz ... done.\n",
      "Length: 234607 (229K)\n",
      "\n",
      "chrX.fa.gz          100%[===================>] 229.11K   453KB/s    in 0.5s    \n",
      "\n",
      "2019-05-17 04:28:22 (453 KB/s) - ‘chrX.fa.gz’ saved [234607]\n",
      "\n",
      "--2019-05-17 04:28:22--  ftp://hgdownload.cse.ucsc.edu/goldenPath/sacCer3/chromosomes/chrXI.fa.gz\n",
      "           => ‘chrXI.fa.gz’\n",
      "==> CWD not required.\n",
      "==> PASV ... done.    ==> RETR chrXI.fa.gz ... done.\n",
      "Length: 210258 (205K)\n",
      "\n",
      "chrXI.fa.gz         100%[===================>] 205.33K   412KB/s    in 0.5s    \n",
      "\n",
      "2019-05-17 04:28:22 (412 KB/s) - ‘chrXI.fa.gz’ saved [210258]\n",
      "\n",
      "--2019-05-17 04:28:22--  ftp://hgdownload.cse.ucsc.edu/goldenPath/sacCer3/chromosomes/chrXII.fa.gz\n",
      "           => ‘chrXII.fa.gz’\n",
      "==> CWD not required.\n",
      "==> PASV ... done.    ==> RETR chrXII.fa.gz ... done.\n",
      "Length: 335650 (328K)\n",
      "\n",
      "chrXII.fa.gz        100%[===================>] 327.78K   518KB/s    in 0.6s    \n",
      "\n",
      "2019-05-17 04:28:23 (518 KB/s) - ‘chrXII.fa.gz’ saved [335650]\n",
      "\n",
      "--2019-05-17 04:28:23--  ftp://hgdownload.cse.ucsc.edu/goldenPath/sacCer3/chromosomes/chrXIII.fa.gz\n",
      "           => ‘chrXIII.fa.gz’\n",
      "==> CWD not required.\n",
      "==> PASV ... done.    ==> RETR chrXIII.fa.gz ... done.\n",
      "Length: 291019 (284K)\n",
      "\n",
      "chrXIII.fa.gz       100%[===================>] 284.20K   497KB/s    in 0.6s    \n",
      "\n",
      "2019-05-17 04:28:24 (497 KB/s) - ‘chrXIII.fa.gz’ saved [291019]\n",
      "\n",
      "--2019-05-17 04:28:24--  ftp://hgdownload.cse.ucsc.edu/goldenPath/sacCer3/chromosomes/chrXIV.fa.gz\n",
      "           => ‘chrXIV.fa.gz’\n",
      "==> CWD not required.\n",
      "==> PASV ... done.    ==> RETR chrXIV.fa.gz ... done.\n",
      "Length: 247517 (242K)\n",
      "\n",
      "chrXIV.fa.gz        100%[===================>] 241.72K   487KB/s    in 0.5s    \n",
      "\n",
      "2019-05-17 04:28:25 (487 KB/s) - ‘chrXIV.fa.gz’ saved [247517]\n",
      "\n",
      "--2019-05-17 04:28:25--  ftp://hgdownload.cse.ucsc.edu/goldenPath/sacCer3/chromosomes/chrXV.fa.gz\n",
      "           => ‘chrXV.fa.gz’\n",
      "==> CWD not required.\n",
      "==> PASV ... done.    ==> RETR chrXV.fa.gz ... done.\n",
      "Length: 344191 (336K)\n",
      "\n",
      "chrXV.fa.gz         100%[===================>] 336.12K   520KB/s    in 0.6s    \n",
      "\n",
      "2019-05-17 04:28:26 (520 KB/s) - ‘chrXV.fa.gz’ saved [344191]\n",
      "\n",
      "--2019-05-17 04:28:26--  ftp://hgdownload.cse.ucsc.edu/goldenPath/sacCer3/chromosomes/chrXVI.fa.gz\n",
      "           => ‘chrXVI.fa.gz’\n",
      "==> CWD not required.\n",
      "==> PASV ... done.    ==> RETR chrXVI.fa.gz ... done.\n",
      "Length: 299009 (292K)\n",
      "\n",
      "chrXVI.fa.gz        100%[===================>] 292.00K   580KB/s    in 0.5s    \n",
      "\n",
      "2019-05-17 04:28:26 (580 KB/s) - ‘chrXVI.fa.gz’ saved [299009]\n",
      "\n",
      "--2019-05-17 04:28:26--  ftp://hgdownload.cse.ucsc.edu/goldenPath/sacCer3/chromosomes/md5sum.txt\n",
      "           => ‘md5sum.txt’\n",
      "==> CWD not required.\n",
      "==> PASV ... done.    ==> RETR md5sum.txt ... done.\n",
      "Length: 787\n",
      "\n",
      "md5sum.txt          100%[===================>]     787  --.-KB/s    in 0s      \n",
      "\n",
      "2019-05-17 04:28:27 (15.8 MB/s) - ‘md5sum.txt’ saved [787]\n",
      "\n"
     ]
    }
   ],
   "source": [
    "cd ~/annotations/sacCer3_UCSC\n",
    "wget 'ftp://hgdownload.cse.ucsc.edu/goldenPath/sacCer3/chromosomes/*'\n",
    "cat *fa.gz > sacCer3.fa.gz\n",
    "gzip -d sacCer3.fa.gz"
   ]
  },
  {
   "cell_type": "markdown",
   "metadata": {},
   "source": [
    "\n",
    "Download the Schizosaccharomyces pombe genome assembly from ENSEMBL.\n"
   ]
  },
  {
   "cell_type": "code",
   "execution_count": 9,
   "metadata": {},
   "outputs": [
    {
     "name": "stdout",
     "output_type": "stream",
     "text": [
      "--2019-05-17 04:26:39--  ftp://ftp.ensemblgenomes.org/pub/fungi/release-43/fasta/schizosaccharomyces_pombe/dna/Schizosaccharomyces_pombe.ASM294v2.dna.toplevel.fa.gz\n",
      "           => ‘Schizosaccharomyces_pombe.ASM294v2.dna.toplevel.fa.gz’\n",
      "Resolving ftp.ensemblgenomes.org (ftp.ensemblgenomes.org)... 193.62.197.94\n",
      "Connecting to ftp.ensemblgenomes.org (ftp.ensemblgenomes.org)|193.62.197.94|:21... connected.\n",
      "Logging in as anonymous ... Logged in!\n",
      "==> SYST ... done.    ==> PWD ... done.\n",
      "==> TYPE I ... done.  ==> CWD (1) /pub/fungi/release-43/fasta/schizosaccharomyces_pombe/dna ... done.\n",
      "==> SIZE Schizosaccharomyces_pombe.ASM294v2.dna.toplevel.fa.gz ... 3921364\n",
      "==> PASV ... done.    ==> RETR Schizosaccharomyces_pombe.ASM294v2.dna.toplevel.fa.gz ... done.\n",
      "Length: 3921364 (3.7M) (unauthoritative)\n",
      "\n",
      "Schizosaccharomyces 100%[===================>]   3.74M  4.05MB/s    in 0.9s    \n",
      "\n",
      "2019-05-17 04:26:41 (4.05 MB/s) - ‘Schizosaccharomyces_pombe.ASM294v2.dna.toplevel.fa.gz’ saved [3921364]\n",
      "\n"
     ]
    }
   ],
   "source": [
    "cd ~/annotations/Spombe_ENSEMBLE\n",
    "wget 'ftp://ftp.ensemblgenomes.org/pub/fungi/release-43/fasta/schizosaccharomyces_pombe/dna/Schizosaccharomyces_pombe.ASM294v2.dna.toplevel.fa.gz'\n",
    "gzip -d Schizosaccharomyces_pombe.ASM294v2.dna.toplevel.fa.gz"
   ]
  },
  {
   "cell_type": "markdown",
   "metadata": {},
   "source": [
    "\n",
    "Download the Schizosaccharomyces pombe gene annotation from ENSEMBL.\n"
   ]
  },
  {
   "cell_type": "code",
   "execution_count": 2,
   "metadata": {},
   "outputs": [
    {
     "name": "stdout",
     "output_type": "stream",
     "text": [
      "--2019-05-17 17:57:25--  ftp://ftp.ensemblgenomes.org/pub/fungi/release-43/gtf/schizosaccharomyces_pombe/Schizosaccharomyces_pombe.ASM294v2.43.gtf.gz\n",
      "           => ‘Sp_genes.gtf’\n",
      "Resolving ftp.ensemblgenomes.org (ftp.ensemblgenomes.org)... 193.62.197.94\n",
      "Connecting to ftp.ensemblgenomes.org (ftp.ensemblgenomes.org)|193.62.197.94|:21... connected.\n",
      "Logging in as anonymous ... Logged in!\n",
      "==> SYST ... done.    ==> PWD ... done.\n",
      "==> TYPE I ... done.  ==> CWD (1) /pub/fungi/release-43/gtf/schizosaccharomyces_pombe ... done.\n",
      "==> SIZE Schizosaccharomyces_pombe.ASM294v2.43.gtf.gz ... 804707\n",
      "==> PASV ... done.    ==> RETR Schizosaccharomyces_pombe.ASM294v2.43.gtf.gz ... done.\n",
      "Length: 804707 (786K) (unauthoritative)\n",
      "\n",
      "Schizosaccharomyces 100%[===================>] 785.85K  1.53MB/s    in 0.5s    \n",
      "\n",
      "2019-05-17 17:57:28 (1.53 MB/s) - ‘Sp_genes.gtf’ saved [804707]\n",
      "\n"
     ]
    }
   ],
   "source": [
    "cd ~/annotations/Spombe_ENSEMBLE/\n",
    "wget 'ftp://ftp.ensemblgenomes.org/pub/fungi/release-43/gtf/schizosaccharomyces_pombe/Schizosaccharomyces_pombe.ASM294v2.43.gtf.gz' \\\n",
    "-O Sp_genes.gtf\n"
   ]
  },
  {
   "cell_type": "markdown",
   "metadata": {},
   "source": [
    "\n",
    "Concatenate the two fungi genome files to generate the merged genome file required for STAR indexing.\n"
   ]
  },
  {
   "cell_type": "code",
   "execution_count": 12,
   "metadata": {},
   "outputs": [],
   "source": [
    "cd ~/annotations/sacCer3_Sp_merged_genome/fasta\n",
    "cat ~/annotations/sacCer3_UCSC/sacCer3.fa \\\n",
    "~/annotations/Spombe_ENSEMBLE/Schizosaccharomyces_pombe.ASM294v2.dna.toplevel.fa > \\\n",
    "sacCer3_Sp_merged.fa"
   ]
  },
  {
   "cell_type": "markdown",
   "metadata": {},
   "source": [
    "\n",
    "Download the sacCer3 gene annotation from SGD for the gff file.\n"
   ]
  },
  {
   "cell_type": "code",
   "execution_count": 1,
   "metadata": {},
   "outputs": [
    {
     "name": "stdout",
     "output_type": "stream",
     "text": [
      "--2019-05-17 13:29:02--  https://downloads.yeastgenome.org/curation/chromosomal_feature/saccharomyces_cerevisiae.gff\n",
      "Resolving downloads.yeastgenome.org (downloads.yeastgenome.org)... 171.67.205.104\n",
      "Connecting to downloads.yeastgenome.org (downloads.yeastgenome.org)|171.67.205.104|:443... connected.\n",
      "HTTP request sent, awaiting response... 200 OK\n",
      "Length: 18136762 (17M)\n",
      "Saving to: ‘r64_2_1.gff3’\n",
      "\n",
      "r64_2_1.gff3        100%[===================>]  17.30M  16.7MB/s    in 1.0s    \n",
      "\n",
      "2019-05-17 13:29:03 (16.7 MB/s) - ‘r64_2_1.gff3’ saved [18136762/18136762]\n",
      "\n"
     ]
    }
   ],
   "source": [
    "cd ~/annotations/sacCer3_Sp_merged_genome/anno\n",
    "wget https://downloads.yeastgenome.org/curation/chromosomal_feature/saccharomyces_cerevisiae.gff \\\n",
    "-O r64_2_1.gff3\n"
   ]
  },
  {
   "cell_type": "markdown",
   "metadata": {},
   "source": [
    "\n",
    "Generate the STAR index\n"
   ]
  },
  {
   "cell_type": "code",
   "execution_count": 4,
   "metadata": {},
   "outputs": [
    {
     "name": "stdout",
     "output_type": "stream",
     "text": [
      "May 17 13:33:47 ..... started STAR run\n",
      "May 17 13:33:47 ... starting to generate Genome files\n",
      "May 17 13:33:47 ... starting to sort Suffix Array. This may take a long time...\n",
      "May 17 13:33:48 ... sorting Suffix Array chunks and saving them to disk...\n",
      "May 17 13:34:09 ... loading chunks from disk, packing SA...\n",
      "May 17 13:34:09 ... finished generating suffix array\n",
      "May 17 13:34:09 ... generating Suffix Array index\n",
      "May 17 13:34:12 ... completed Suffix Array index\n",
      "May 17 13:34:12 ..... processing annotations GTF\n",
      "May 17 13:34:12 ..... inserting junctions into the genome indices\n",
      "May 17 13:34:13 ... writing Genome to disk ...\n",
      "May 17 13:34:13 ... writing Suffix Array to disk ...\n",
      "May 17 13:34:13 ... writing SAindex to disk\n",
      "May 17 13:34:13 ..... finished successfully\n"
     ]
    }
   ],
   "source": [
    "STAR \\\n",
    "--runThreadN 1 \\\n",
    "--runMode genomeGenerate \\\n",
    "--genomeDir ~/annotations/sacCer3_Sp_merged_genome/STAR_index \\\n",
    "--genomeFastaFiles ~/annotations/sacCer3_Sp_merged_genome/fasta/sacCer3_Sp_merged.fa \\\n",
    "--sjdbGTFfile ~/annotations/sacCer3_Sp_merged_genome/anno/r64_2_1.gff3 \\\n",
    "--sjdbGTFtagExonParentTranscript Parent \\\n",
    "--sjdbGTFfeatureExon CDS \\\n",
    "--genomeSAindexNbases 11 \\\n",
    "--sjdbOverhang 49"
   ]
  },
  {
   "cell_type": "markdown",
   "metadata": {},
   "source": [
    "\n",
    "Make the adapters file for trimming.\n"
   ]
  },
  {
   "cell_type": "code",
   "execution_count": 1,
   "metadata": {},
   "outputs": [
    {
     "name": "stdout",
     "output_type": "stream",
     "text": [
      "gzip: Lexogen_adapters_with_pA.fa.gz already exists; do you wish to overwrite (y or n)? \r\n"
     ]
    }
   ],
   "source": [
    "cd ~/annotations/common/\n",
    "\n",
    "cat >Lexogen_adapters_with_pA.fa <<EOL\n",
    ">TruSeq_Adapter_Index_1_6\n",
    "GATCGGAAGAGCACACGTCTGAACTCCAGTCACATCACGATCTCGTATGCCGTCTTCTGCTTG\n",
    ">TruSeq_Adapter_Index_2\n",
    "GATCGGAAGAGCACACGTCTGAACTCCAGTCACCGATGTATCTCGTATGCCGTCTTCTGCTTG\n",
    ">TruSeq_Adapter_Index_3\n",
    "GATCGGAAGAGCACACGTCTGAACTCCAGTCACTTAGGCATCTCGTATGCCGTCTTCTGCTTG\n",
    ">TruSeq_Adapter_Index_4\n",
    "GATCGGAAGAGCACACGTCTGAACTCCAGTCACTGACCAATCTCGTATGCCGTCTTCTGCTTG\n",
    ">TruSeq_Adapter_Index_5\n",
    "GATCGGAAGAGCACACGTCTGAACTCCAGTCACACAGTGATCTCGTATGCCGTCTTCTGCTTG\n",
    ">TruSeq_Adapter_Index_6\n",
    "GATCGGAAGAGCACACGTCTGAACTCCAGTCACGCCAATATCTCGTATGCCGTCTTCTGCTTG\n",
    ">TruSeq_Adapter_Index_7\n",
    "GATCGGAAGAGCACACGTCTGAACTCCAGTCACCAGATCATCTCGTATGCCGTCTTCTGCTTG\n",
    ">TruSeq_Adapter_Index_8\n",
    "GATCGGAAGAGCACACGTCTGAACTCCAGTCACACTTGAATCTCGTATGCCGTCTTCTGCTTG\n",
    ">TruSeq_Adapter_Index_9\n",
    "GATCGGAAGAGCACACGTCTGAACTCCAGTCACGATCAGATCTCGTATGCCGTCTTCTGCTTG\n",
    ">TruSeq_Adapter_Index_10\n",
    "GATCGGAAGAGCACACGTCTGAACTCCAGTCACTAGCTTATCTCGTATGCCGTCTTCTGCTTG\n",
    ">TruSeq_Adapter_Index_11\n",
    "GATCGGAAGAGCACACGTCTGAACTCCAGTCACGGCTACATCTCGTATGCCGTCTTCTGCTTG\n",
    ">TruSeq_Adapter_Index_12\n",
    "GATCGGAAGAGCACACGTCTGAACTCCAGTCACCTTGTAATCTCGTATGCCGTCTTCTGCTTG\n",
    ">TruSeq_Adapter_Index_13\n",
    "GATCGGAAGAGCACACGTCTGAACTCCAGTCACAGTCAACAATCTCGTATGCCGTCTTCTGCTTG\n",
    ">TruSeq_Adapter_Index_14\n",
    "GATCGGAAGAGCACACGTCTGAACTCCAGTCACAGTTCCGTATCTCGTATGCCGTCTTCTGCTTG\n",
    ">TruSeq_Adapter_Index_15\n",
    "GATCGGAAGAGCACACGTCTGAACTCCAGTCACATGTCAGAATCTCGTATGCCGTCTTCTGCTTG\n",
    ">TruSeq_Adapter_Index_16\n",
    "GATCGGAAGAGCACACGTCTGAACTCCAGTCACCCGTCCCGATCTCGTATGCCGTCTTCTGCTTG\n",
    ">TruSeq_Adapter_Index_18_7\n",
    "GATCGGAAGAGCACACGTCTGAACTCCAGTCACGTCCGCACATCTCGTATGCCGTCTTCTGCTTG\n",
    ">TruSeq_Adapter_Index_19\n",
    "GATCGGAAGAGCACACGTCTGAACTCCAGTCACGTGAAACGATCTCGTATGCCGTCTTCTGCTTG\n",
    ">TruSeq_Adapter_Index_20\n",
    "GATCGGAAGAGCACACGTCTGAACTCCAGTCACGTGGCCTTATCTCGTATGCCGTCTTCTGCTTG\n",
    ">TruSeq_Adapter_Index_21\n",
    "GATCGGAAGAGCACACGTCTGAACTCCAGTCACGTTTCGGAATCTCGTATGCCGTCTTCTGCTTG\n",
    ">TruSeq_Adapter_Index_22\n",
    "GATCGGAAGAGCACACGTCTGAACTCCAGTCACCGTACGTAATCTCGTATGCCGTCTTCTGCTTG\n",
    ">TruSeq_Adapter_Index_23\n",
    "GATCGGAAGAGCACACGTCTGAACTCCAGTCACGAGTGGATATCTCGTATGCCGTCTTCTGCTTG\n",
    ">TruSeq_Adapter_Index_25\n",
    "GATCGGAAGAGCACACGTCTGAACTCCAGTCACACTGATATATCTCGTATGCCGTCTTCTGCTTG\n",
    ">TruSeq_Adapter_Index_27\n",
    "GATCGGAAGAGCACACGTCTGAACTCCAGTCACATTCCTTTATCTCGTATGCCGTCTTCTGCTTG\n",
    ">polyA\n",
    "AAAAAAAAAAAAAAAAAA\n",
    "EOL\n",
    "\n",
    "gzip Lexogen_adapters_with_pA.fa"
   ]
  },
  {
   "cell_type": "code",
   "execution_count": null,
   "metadata": {},
   "outputs": [],
   "source": []
  }
 ],
 "metadata": {
  "kernelspec": {
   "display_name": "Bash",
   "language": "bash",
   "name": "bash"
  },
  "language_info": {
   "codemirror_mode": "shell",
   "file_extension": ".sh",
   "mimetype": "text/x-sh",
   "name": "bash"
  }
 },
 "nbformat": 4,
 "nbformat_minor": 2
}
