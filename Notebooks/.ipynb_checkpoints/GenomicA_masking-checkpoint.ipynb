{
 "cells": [
  {
   "cell_type": "markdown",
   "metadata": {},
   "source": [
    "\n",
    "---\n",
    "title: \"Genomic A-rich masking\"\n",
    "author: \"Manfred Schmid\"\n",
    "date: \"9 August 2017\"\n",
    "\n",
    "---\n",
    "\n",
    "\n",
    "# Mask reads primed at genomic A-stretches\n",
    "\n",
    "Next step is to mask genomic pA reads from the genome. This could possible be included in the above step. But the approach I used is to create a “masking file”. Ie a bed file of all genomic positions to be filtered. (This should allow for a more flexible approach for comparing different filters.) The main script to create the masking file is again implemented in python, which takes various parameters (how many nucleotides X in a window of size Y) to control what is being masked. The criteria are taken from Kevin Roy, Chanfreau lab. Which he assembled based on yeast Lexogen data. They are:  \n",
    "1)\tall regions with >= 4A within 6 nucleotides but no C or Ts (downstream of position).  \n",
    "2)\tall regions with >= 12A within 18 nucleotides (no CT restrictions, downstream of position).  \n",
    "3)\tAll regions with >=15A within 18 nucleotides (upstream of position).  \n",
    "I would say number 3 is optional, and the technical reason for this filtering is somewhat obscure. Apparently QuantSeq protocol can produce artifact reads containing polyT stretches, and these will map to A-rich sequences in the genome, which can be filtered away using criterion 3. On our first run this was not obvious and I did not include that.\n",
    "\n"
   ]
  },
  {
   "cell_type": "markdown",
   "metadata": {},
   "source": []
  },
  {
   "cell_type": "code",
   "execution_count": null,
   "metadata": {},
   "outputs": [],
   "source": [
    "python flag_genomic_As_KevinRoy_like.py /Users/schmidm/Documents/Results/Lexogen_RNAseq/bams/sacCer3_Sp_merged.fa -l 6 -A 4 -maxCT 0 -o /Users/schmidm/Documents/Results/Lexogen_RNAseq/bams/sacCer3_Sp_merged_flagged_A4in6.bed\n"
   ]
  }
 ],
 "metadata": {
  "kernelspec": {
   "display_name": "Bash",
   "language": "bash",
   "name": "bash"
  },
  "language_info": {
   "codemirror_mode": "shell",
   "file_extension": ".sh",
   "mimetype": "text/x-sh",
   "name": "bash"
  }
 },
 "nbformat": 4,
 "nbformat_minor": 2
}
