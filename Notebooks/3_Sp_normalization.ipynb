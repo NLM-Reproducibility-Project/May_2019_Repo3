{
 "cells": [
  {
   "cell_type": "markdown",
   "metadata": {},
   "source": [
    "# 3. Sp_normalization.Rmd\n",
    "    + count S.pombe reads\n",
    "    + derive scaling factors using DESeq2\n",
    "    + apply to scaling of S. cerevisiae tracks\n",
    "    + sanity check that scaling worked OK"
   ]
  },
  {
   "cell_type": "markdown",
   "metadata": {},
   "source": [
    "Prep S. pombe annotations used"
   ]
  },
  {
   "cell_type": "code",
   "execution_count": 1,
   "metadata": {},
   "outputs": [],
   "source": [
    "\n",
    "### get S.pombe annotations for gene TSS to TES + 300bp\n",
    "cd ~/annotations/Spombe_ENSEMBLE/\n",
    "\n",
    "#extract exons and convert to 0-based\n",
    "cat Sp_genes.gtf | awk '{if($3==\"exon\"){sub(\"\\\"\",\"\",$12);sub(\"\\\";\",\"\",$12);print $1\"\\t\"$4-1\"\\t\"$5\"\\t\"$12\"\\t\"$3\"\\t\"$7}}' > Sp_exons.bed\n",
    "\n",
    "#combine exons of each annotation and extend end by 300bp after TES\n",
    "awk '$6==\"+\"' Sp_exons.bed | sort -k4,4 -k2,2n | \\\n",
    "awk '\n",
    "{\n",
    "  if($4==i){\n",
    "    e=$3+300\n",
    "  }else{\n",
    "    print c\"\\t\"s\"\\t\"e\"\\t\"i\"\\t\"t\"\\t\"str; \n",
    "    c=$1;s=$2;e=$3+300;i=$4;t=$5;str=$6\n",
    "  }\n",
    "}END{\n",
    "  print c\"\\t\"s\"\\t\"e\"\\t\"i\"\\t\"t\"\\t\"str\n",
    "}' | sed 1d | sort -k1,1 -k2,2n > Sp_exons_ends_p300_plus.bed\n",
    "awk '$6==\"-\"' Sp_exons.bed | sort -k4,4 -k2,2n | awk '{if($4==i){e=$3}else{print c\"\\t\"s\"\\t\"e\"\\t\"i\"\\t\"t\"\\t\"str; c=$1;s=$2-300;if(s < 0){s=0};e=$3;i=$4;t=$5;str=$6}}END{print c\"\\t\"s\"\\t\"e\"\\t\"i\"\\t\"t\"\\t\"str}' | sed 1d | sort -k1,1 -k2,2n > Sp_exons_ends_p300_minus.bed\n",
    "\n",
    "## improved version removing overlaps between neighbors on same strand\n",
    "awk '{OFS=\"\\t\"}{if(chr == $1 && $2 < end){if(end<$3){$2=end;$5=\"trimmed_gene_plus300bp\";print $0}}else{$5=\"gene_plus300bp\"; print $0};chr=$1;end=$3}' Sp_exons_ends_p300_plus.bed > Sp_gene_ends_p300_nonoverlapping_plus.bed \n",
    "awk '{OFS=\"\\t\"}{if(chr == $1 && $2 < end){if(end<$3){$2=end;$5=\"trimmed_gene_plus300bp\";print $0}}else{$5=\"gene_plus300bp\"; print $0};chr=$1;end=$3}' Sp_exons_ends_p300_minus.bed > Sp_gene_ends_p300_nonoverlapping_minus.bed \n"
   ]
  },
  {
   "cell_type": "markdown",
   "metadata": {},
   "source": [
    "Get counts for each Spombe transcript 10min data"
   ]
  },
  {
   "cell_type": "code",
   "execution_count": 4,
   "metadata": {},
   "outputs": [
    {
     "name": "stdout",
     "output_type": "stream",
     "text": [
      "counting plus strand file *_plus_Sp.bedgraph\n",
      "/home/ubuntu/software/bed_count.sh: line 24: syntax error near unexpected token `newline'\n",
      "/home/ubuntu/software/bed_count.sh: line 24: `}'  | sort -k1,1 -k2,2n | bedtools map -a  -b - -c  -o sum > '\n",
      "   minus strand\n",
      "/home/ubuntu/software/bed_count.sh: line 24: syntax error near unexpected token `newline'\n",
      "/home/ubuntu/software/bed_count.sh: line 24: `}'  | sort -k1,1 -k2,2n | bedtools map -a  -b - -c  -o sum > '\n",
      "cat: 'Spombe_per_gene_counts/*_Sp_plus.raw_counts': No such file or directory\n",
      "cat: 'Spombe_per_gene_counts/*_Sp_minus.raw_counts': No such file or directory\n",
      "rm: cannot remove 'Spombe_per_gene_counts/*_Sp_plus.raw_counts': No such file or directory\n",
      "rm: cannot remove 'Spombe_per_gene_counts/*_Sp_minus.raw_counts': No such file or directory\n"
     ]
    },
    {
     "ename": "",
     "evalue": "1",
     "output_type": "error",
     "traceback": []
    }
   ],
   "source": [
    "cd ~/output/STAR_map/\n",
    "\n",
    "mkdir -p raw_bedgraph/Spombe_bedgraphs\n",
    "\n",
    "for f in *.bedgraph\n",
    "  do \n",
    "    grep -v ^chr $f > ~/output/STAR_map/${f/.bedgraph/_Sp.bedgraph}\n",
    "  done\n",
    "  \n",
    "mkdir -p Spombe_per_gene_counts\n",
    "\n",
    "plus_bed=\"~/annotations/Spombe_ENSEMBLE/Sp_gene_ends_p300_nonoverlapping_plus.bed\"\n",
    "minus_bed=\"~/annotations/Spombe_ENSEMBLE/Sp_gene_ends_p300_nonoverlapping_minus.bed\"\n",
    "\n",
    "cd ~/output/STAR_map/raw_bedgraph/Spombe_bedgraphs\n",
    "\n",
    "mkdir -p Spombe_per_gene_counts\n",
    "\n",
    "for b in *_plus_Sp.bedgraph\n",
    "do\n",
    "  echo \"counting plus strand file ${b}\"\n",
    "  bash ~/software/bed_count.sh $plus_bed $b 4 Spombe_per_gene_counts/${b/_plus_Sp.bedgraph/_Sp_plus.raw_counts}\n",
    "  echo \"   minus strand\"\n",
    "  bash ~/software/bed_count.sh $minus_bed ${b/plus/minus} 4 Spombe_per_gene_counts/${b/_plus_Sp.bedgraph/_Sp_minus.raw_counts}\n",
    "  cat Spombe_per_gene_counts/${b/_plus_Sp.bedgraph/_Sp_plus.raw_counts} Spombe_per_gene_counts/${b/_plus_Sp.bedgraph/_Sp_minus.raw_counts} | sort -k1,1 -k2,2n > Spombe_per_gene_counts/${b/_plus_Sp.bedgraph/_Sp.raw_counts}\n",
    "  rm Spombe_per_gene_counts/${b/_plus_Sp.bedgraph/_Sp_plus.raw_counts}\n",
    "  rm Spombe_per_gene_counts/${b/_plus_Sp.bedgraph/_Sp_minus.raw_counts}\n",
    "done"
   ]
  },
  {
   "cell_type": "code",
   "execution_count": null,
   "metadata": {},
   "outputs": [],
   "source": []
  }
 ],
 "metadata": {
  "kernelspec": {
   "display_name": "Bash",
   "language": "bash",
   "name": "bash"
  },
  "language_info": {
   "codemirror_mode": "shell",
   "file_extension": ".sh",
   "mimetype": "text/x-sh",
   "name": "bash"
  }
 },
 "nbformat": 4,
 "nbformat_minor": 2
}
